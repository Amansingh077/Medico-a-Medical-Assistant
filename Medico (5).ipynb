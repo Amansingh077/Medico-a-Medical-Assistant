{
 "cells": [
  {
   "cell_type": "markdown",
   "id": "502413e6-8cf7-42da-a2ac-046a95b94cec",
   "metadata": {},
   "source": [
    "# 🩺 Medico a Medical Assistant"
   ]
  },
  {
   "cell_type": "code",
   "execution_count": null,
   "id": "5971d903-2a7f-4308-a9e8-7264191b831e",
   "metadata": {},
   "outputs": [],
   "source": []
  },
  {
   "cell_type": "markdown",
   "id": "65bc63c1-fcf9-45ec-87ac-d580b13f0ccd",
   "metadata": {},
   "source": [
    "## Load Training Dataset"
   ]
  },
  {
   "cell_type": "code",
   "execution_count": 3,
   "id": "1fdbb5ed-b0b4-4ca0-a9e7-d00293ff147a",
   "metadata": {},
   "outputs": [
    {
     "data": {
      "text/html": [
       "<div>\n",
       "<style scoped>\n",
       "    .dataframe tbody tr th:only-of-type {\n",
       "        vertical-align: middle;\n",
       "    }\n",
       "\n",
       "    .dataframe tbody tr th {\n",
       "        vertical-align: top;\n",
       "    }\n",
       "\n",
       "    .dataframe thead th {\n",
       "        text-align: right;\n",
       "    }\n",
       "</style>\n",
       "<table border=\"1\" class=\"dataframe\">\n",
       "  <thead>\n",
       "    <tr style=\"text-align: right;\">\n",
       "      <th></th>\n",
       "      <th>itching</th>\n",
       "      <th>skin_rash</th>\n",
       "      <th>nodal_skin_eruptions</th>\n",
       "      <th>continuous_sneezing</th>\n",
       "      <th>shivering</th>\n",
       "      <th>chills</th>\n",
       "      <th>joint_pain</th>\n",
       "      <th>stomach_pain</th>\n",
       "      <th>acidity</th>\n",
       "      <th>ulcers_on_tongue</th>\n",
       "      <th>...</th>\n",
       "      <th>blackheads</th>\n",
       "      <th>scurring</th>\n",
       "      <th>skin_peeling</th>\n",
       "      <th>silver_like_dusting</th>\n",
       "      <th>small_dents_in_nails</th>\n",
       "      <th>inflammatory_nails</th>\n",
       "      <th>blister</th>\n",
       "      <th>red_sore_around_nose</th>\n",
       "      <th>yellow_crust_ooze</th>\n",
       "      <th>prognosis</th>\n",
       "    </tr>\n",
       "  </thead>\n",
       "  <tbody>\n",
       "    <tr>\n",
       "      <th>0</th>\n",
       "      <td>1</td>\n",
       "      <td>1</td>\n",
       "      <td>1</td>\n",
       "      <td>0</td>\n",
       "      <td>0</td>\n",
       "      <td>0</td>\n",
       "      <td>0</td>\n",
       "      <td>0</td>\n",
       "      <td>0</td>\n",
       "      <td>0</td>\n",
       "      <td>...</td>\n",
       "      <td>0</td>\n",
       "      <td>0</td>\n",
       "      <td>0</td>\n",
       "      <td>0</td>\n",
       "      <td>0</td>\n",
       "      <td>0</td>\n",
       "      <td>0</td>\n",
       "      <td>0</td>\n",
       "      <td>0</td>\n",
       "      <td>Fungal infection</td>\n",
       "    </tr>\n",
       "    <tr>\n",
       "      <th>1</th>\n",
       "      <td>0</td>\n",
       "      <td>1</td>\n",
       "      <td>1</td>\n",
       "      <td>0</td>\n",
       "      <td>0</td>\n",
       "      <td>0</td>\n",
       "      <td>0</td>\n",
       "      <td>0</td>\n",
       "      <td>0</td>\n",
       "      <td>0</td>\n",
       "      <td>...</td>\n",
       "      <td>0</td>\n",
       "      <td>0</td>\n",
       "      <td>0</td>\n",
       "      <td>0</td>\n",
       "      <td>0</td>\n",
       "      <td>0</td>\n",
       "      <td>0</td>\n",
       "      <td>0</td>\n",
       "      <td>0</td>\n",
       "      <td>Fungal infection</td>\n",
       "    </tr>\n",
       "    <tr>\n",
       "      <th>2</th>\n",
       "      <td>1</td>\n",
       "      <td>0</td>\n",
       "      <td>1</td>\n",
       "      <td>0</td>\n",
       "      <td>0</td>\n",
       "      <td>0</td>\n",
       "      <td>0</td>\n",
       "      <td>0</td>\n",
       "      <td>0</td>\n",
       "      <td>0</td>\n",
       "      <td>...</td>\n",
       "      <td>0</td>\n",
       "      <td>0</td>\n",
       "      <td>0</td>\n",
       "      <td>0</td>\n",
       "      <td>0</td>\n",
       "      <td>0</td>\n",
       "      <td>0</td>\n",
       "      <td>0</td>\n",
       "      <td>0</td>\n",
       "      <td>Fungal infection</td>\n",
       "    </tr>\n",
       "    <tr>\n",
       "      <th>3</th>\n",
       "      <td>1</td>\n",
       "      <td>1</td>\n",
       "      <td>0</td>\n",
       "      <td>0</td>\n",
       "      <td>0</td>\n",
       "      <td>0</td>\n",
       "      <td>0</td>\n",
       "      <td>0</td>\n",
       "      <td>0</td>\n",
       "      <td>0</td>\n",
       "      <td>...</td>\n",
       "      <td>0</td>\n",
       "      <td>0</td>\n",
       "      <td>0</td>\n",
       "      <td>0</td>\n",
       "      <td>0</td>\n",
       "      <td>0</td>\n",
       "      <td>0</td>\n",
       "      <td>0</td>\n",
       "      <td>0</td>\n",
       "      <td>Fungal infection</td>\n",
       "    </tr>\n",
       "    <tr>\n",
       "      <th>4</th>\n",
       "      <td>1</td>\n",
       "      <td>1</td>\n",
       "      <td>1</td>\n",
       "      <td>0</td>\n",
       "      <td>0</td>\n",
       "      <td>0</td>\n",
       "      <td>0</td>\n",
       "      <td>0</td>\n",
       "      <td>0</td>\n",
       "      <td>0</td>\n",
       "      <td>...</td>\n",
       "      <td>0</td>\n",
       "      <td>0</td>\n",
       "      <td>0</td>\n",
       "      <td>0</td>\n",
       "      <td>0</td>\n",
       "      <td>0</td>\n",
       "      <td>0</td>\n",
       "      <td>0</td>\n",
       "      <td>0</td>\n",
       "      <td>Fungal infection</td>\n",
       "    </tr>\n",
       "    <tr>\n",
       "      <th>...</th>\n",
       "      <td>...</td>\n",
       "      <td>...</td>\n",
       "      <td>...</td>\n",
       "      <td>...</td>\n",
       "      <td>...</td>\n",
       "      <td>...</td>\n",
       "      <td>...</td>\n",
       "      <td>...</td>\n",
       "      <td>...</td>\n",
       "      <td>...</td>\n",
       "      <td>...</td>\n",
       "      <td>...</td>\n",
       "      <td>...</td>\n",
       "      <td>...</td>\n",
       "      <td>...</td>\n",
       "      <td>...</td>\n",
       "      <td>...</td>\n",
       "      <td>...</td>\n",
       "      <td>...</td>\n",
       "      <td>...</td>\n",
       "      <td>...</td>\n",
       "    </tr>\n",
       "    <tr>\n",
       "      <th>4915</th>\n",
       "      <td>0</td>\n",
       "      <td>0</td>\n",
       "      <td>0</td>\n",
       "      <td>0</td>\n",
       "      <td>0</td>\n",
       "      <td>0</td>\n",
       "      <td>0</td>\n",
       "      <td>0</td>\n",
       "      <td>0</td>\n",
       "      <td>0</td>\n",
       "      <td>...</td>\n",
       "      <td>0</td>\n",
       "      <td>0</td>\n",
       "      <td>0</td>\n",
       "      <td>0</td>\n",
       "      <td>0</td>\n",
       "      <td>0</td>\n",
       "      <td>0</td>\n",
       "      <td>0</td>\n",
       "      <td>0</td>\n",
       "      <td>(vertigo) Paroymsal  Positional Vertigo</td>\n",
       "    </tr>\n",
       "    <tr>\n",
       "      <th>4916</th>\n",
       "      <td>0</td>\n",
       "      <td>1</td>\n",
       "      <td>0</td>\n",
       "      <td>0</td>\n",
       "      <td>0</td>\n",
       "      <td>0</td>\n",
       "      <td>0</td>\n",
       "      <td>0</td>\n",
       "      <td>0</td>\n",
       "      <td>0</td>\n",
       "      <td>...</td>\n",
       "      <td>1</td>\n",
       "      <td>1</td>\n",
       "      <td>0</td>\n",
       "      <td>0</td>\n",
       "      <td>0</td>\n",
       "      <td>0</td>\n",
       "      <td>0</td>\n",
       "      <td>0</td>\n",
       "      <td>0</td>\n",
       "      <td>Acne</td>\n",
       "    </tr>\n",
       "    <tr>\n",
       "      <th>4917</th>\n",
       "      <td>0</td>\n",
       "      <td>0</td>\n",
       "      <td>0</td>\n",
       "      <td>0</td>\n",
       "      <td>0</td>\n",
       "      <td>0</td>\n",
       "      <td>0</td>\n",
       "      <td>0</td>\n",
       "      <td>0</td>\n",
       "      <td>0</td>\n",
       "      <td>...</td>\n",
       "      <td>0</td>\n",
       "      <td>0</td>\n",
       "      <td>0</td>\n",
       "      <td>0</td>\n",
       "      <td>0</td>\n",
       "      <td>0</td>\n",
       "      <td>0</td>\n",
       "      <td>0</td>\n",
       "      <td>0</td>\n",
       "      <td>Urinary tract infection</td>\n",
       "    </tr>\n",
       "    <tr>\n",
       "      <th>4918</th>\n",
       "      <td>0</td>\n",
       "      <td>1</td>\n",
       "      <td>0</td>\n",
       "      <td>0</td>\n",
       "      <td>0</td>\n",
       "      <td>0</td>\n",
       "      <td>1</td>\n",
       "      <td>0</td>\n",
       "      <td>0</td>\n",
       "      <td>0</td>\n",
       "      <td>...</td>\n",
       "      <td>0</td>\n",
       "      <td>0</td>\n",
       "      <td>1</td>\n",
       "      <td>1</td>\n",
       "      <td>1</td>\n",
       "      <td>1</td>\n",
       "      <td>0</td>\n",
       "      <td>0</td>\n",
       "      <td>0</td>\n",
       "      <td>Psoriasis</td>\n",
       "    </tr>\n",
       "    <tr>\n",
       "      <th>4919</th>\n",
       "      <td>0</td>\n",
       "      <td>1</td>\n",
       "      <td>0</td>\n",
       "      <td>0</td>\n",
       "      <td>0</td>\n",
       "      <td>0</td>\n",
       "      <td>0</td>\n",
       "      <td>0</td>\n",
       "      <td>0</td>\n",
       "      <td>0</td>\n",
       "      <td>...</td>\n",
       "      <td>0</td>\n",
       "      <td>0</td>\n",
       "      <td>0</td>\n",
       "      <td>0</td>\n",
       "      <td>0</td>\n",
       "      <td>0</td>\n",
       "      <td>1</td>\n",
       "      <td>1</td>\n",
       "      <td>1</td>\n",
       "      <td>Impetigo</td>\n",
       "    </tr>\n",
       "  </tbody>\n",
       "</table>\n",
       "<p>4920 rows × 133 columns</p>\n",
       "</div>"
      ],
      "text/plain": [
       "      itching  skin_rash  nodal_skin_eruptions  continuous_sneezing  \\\n",
       "0           1          1                     1                    0   \n",
       "1           0          1                     1                    0   \n",
       "2           1          0                     1                    0   \n",
       "3           1          1                     0                    0   \n",
       "4           1          1                     1                    0   \n",
       "...       ...        ...                   ...                  ...   \n",
       "4915        0          0                     0                    0   \n",
       "4916        0          1                     0                    0   \n",
       "4917        0          0                     0                    0   \n",
       "4918        0          1                     0                    0   \n",
       "4919        0          1                     0                    0   \n",
       "\n",
       "      shivering  chills  joint_pain  stomach_pain  acidity  ulcers_on_tongue  \\\n",
       "0             0       0           0             0        0                 0   \n",
       "1             0       0           0             0        0                 0   \n",
       "2             0       0           0             0        0                 0   \n",
       "3             0       0           0             0        0                 0   \n",
       "4             0       0           0             0        0                 0   \n",
       "...         ...     ...         ...           ...      ...               ...   \n",
       "4915          0       0           0             0        0                 0   \n",
       "4916          0       0           0             0        0                 0   \n",
       "4917          0       0           0             0        0                 0   \n",
       "4918          0       0           1             0        0                 0   \n",
       "4919          0       0           0             0        0                 0   \n",
       "\n",
       "      ...  blackheads  scurring  skin_peeling  silver_like_dusting  \\\n",
       "0     ...           0         0             0                    0   \n",
       "1     ...           0         0             0                    0   \n",
       "2     ...           0         0             0                    0   \n",
       "3     ...           0         0             0                    0   \n",
       "4     ...           0         0             0                    0   \n",
       "...   ...         ...       ...           ...                  ...   \n",
       "4915  ...           0         0             0                    0   \n",
       "4916  ...           1         1             0                    0   \n",
       "4917  ...           0         0             0                    0   \n",
       "4918  ...           0         0             1                    1   \n",
       "4919  ...           0         0             0                    0   \n",
       "\n",
       "      small_dents_in_nails  inflammatory_nails  blister  red_sore_around_nose  \\\n",
       "0                        0                   0        0                     0   \n",
       "1                        0                   0        0                     0   \n",
       "2                        0                   0        0                     0   \n",
       "3                        0                   0        0                     0   \n",
       "4                        0                   0        0                     0   \n",
       "...                    ...                 ...      ...                   ...   \n",
       "4915                     0                   0        0                     0   \n",
       "4916                     0                   0        0                     0   \n",
       "4917                     0                   0        0                     0   \n",
       "4918                     1                   1        0                     0   \n",
       "4919                     0                   0        1                     1   \n",
       "\n",
       "      yellow_crust_ooze                                prognosis  \n",
       "0                     0                         Fungal infection  \n",
       "1                     0                         Fungal infection  \n",
       "2                     0                         Fungal infection  \n",
       "3                     0                         Fungal infection  \n",
       "4                     0                         Fungal infection  \n",
       "...                 ...                                      ...  \n",
       "4915                  0  (vertigo) Paroymsal  Positional Vertigo  \n",
       "4916                  0                                     Acne  \n",
       "4917                  0                  Urinary tract infection  \n",
       "4918                  0                                Psoriasis  \n",
       "4919                  1                                 Impetigo  \n",
       "\n",
       "[4920 rows x 133 columns]"
      ]
     },
     "execution_count": 3,
     "metadata": {},
     "output_type": "execute_result"
    }
   ],
   "source": [
    "import  pandas as pd\n",
    "data = pd.read_csv(\"C:/Users/AMAN/Desktop/dataset/Training.csv\")\n",
    "data"
   ]
  },
  {
   "cell_type": "code",
   "execution_count": null,
   "id": "fb2e7fbf-7191-4033-aa31-b05629853f1b",
   "metadata": {},
   "outputs": [],
   "source": []
  },
  {
   "cell_type": "markdown",
   "id": "6651f002-e5ed-46c9-a0de-a28d0c005f1c",
   "metadata": {},
   "source": [
    "## shape, size, count and columns of data"
   ]
  },
  {
   "cell_type": "code",
   "execution_count": 5,
   "id": "204ec73c-a61d-4dd2-a551-0d15d0aceb6d",
   "metadata": {},
   "outputs": [
    {
     "data": {
      "text/plain": [
       "Index(['itching', 'skin_rash', 'nodal_skin_eruptions', 'continuous_sneezing',\n",
       "       'shivering', 'chills', 'joint_pain', 'stomach_pain', 'acidity',\n",
       "       'ulcers_on_tongue',\n",
       "       ...\n",
       "       'blackheads', 'scurring', 'skin_peeling', 'silver_like_dusting',\n",
       "       'small_dents_in_nails', 'inflammatory_nails', 'blister',\n",
       "       'red_sore_around_nose', 'yellow_crust_ooze', 'prognosis'],\n",
       "      dtype='object', length=133)"
      ]
     },
     "execution_count": 5,
     "metadata": {},
     "output_type": "execute_result"
    }
   ],
   "source": [
    "data.columns"
   ]
  },
  {
   "cell_type": "code",
   "execution_count": 6,
   "id": "2515b482-d30c-49af-b7bd-940f1d28a1d6",
   "metadata": {},
   "outputs": [
    {
     "data": {
      "text/plain": [
       "(4920, 133)"
      ]
     },
     "execution_count": 6,
     "metadata": {},
     "output_type": "execute_result"
    }
   ],
   "source": [
    "data.shape"
   ]
  },
  {
   "cell_type": "code",
   "execution_count": 7,
   "id": "a4eea7ea-5e6a-4db1-956b-4d8ccf33cf1c",
   "metadata": {},
   "outputs": [
    {
     "data": {
      "text/plain": [
       "654360"
      ]
     },
     "execution_count": 7,
     "metadata": {},
     "output_type": "execute_result"
    }
   ],
   "source": [
    "data.size"
   ]
  },
  {
   "cell_type": "code",
   "execution_count": 8,
   "id": "c8a35fed-9053-4247-84c6-4f59f46cccd9",
   "metadata": {},
   "outputs": [
    {
     "data": {
      "text/plain": [
       "itching                 4920\n",
       "skin_rash               4920\n",
       "nodal_skin_eruptions    4920\n",
       "continuous_sneezing     4920\n",
       "shivering               4920\n",
       "                        ... \n",
       "inflammatory_nails      4920\n",
       "blister                 4920\n",
       "red_sore_around_nose    4920\n",
       "yellow_crust_ooze       4920\n",
       "prognosis               4920\n",
       "Length: 133, dtype: int64"
      ]
     },
     "execution_count": 8,
     "metadata": {},
     "output_type": "execute_result"
    }
   ],
   "source": [
    "data.count()"
   ]
  },
  {
   "cell_type": "code",
   "execution_count": 9,
   "id": "284f129d-4bc7-4cbe-802b-32f305482105",
   "metadata": {},
   "outputs": [
    {
     "name": "stdout",
     "output_type": "stream",
     "text": [
      "<class 'pandas.core.frame.DataFrame'>\n",
      "RangeIndex: 4920 entries, 0 to 4919\n",
      "Columns: 133 entries, itching to prognosis\n",
      "dtypes: int64(132), object(1)\n",
      "memory usage: 5.0+ MB\n"
     ]
    }
   ],
   "source": [
    "data.info()"
   ]
  },
  {
   "cell_type": "markdown",
   "id": "58f597fd-8702-4c5a-bb4d-06476d53565b",
   "metadata": {},
   "source": [
    "# Data Cleaning"
   ]
  },
  {
   "cell_type": "markdown",
   "id": "866f8534-c9eb-49f7-8e07-4eb4de2f4d1d",
   "metadata": {},
   "source": [
    "## checking Null values"
   ]
  },
  {
   "cell_type": "code",
   "execution_count": 12,
   "id": "98e83728-a310-46c7-9335-763e6e33396e",
   "metadata": {},
   "outputs": [
    {
     "data": {
      "text/html": [
       "<div>\n",
       "<style scoped>\n",
       "    .dataframe tbody tr th:only-of-type {\n",
       "        vertical-align: middle;\n",
       "    }\n",
       "\n",
       "    .dataframe tbody tr th {\n",
       "        vertical-align: top;\n",
       "    }\n",
       "\n",
       "    .dataframe thead th {\n",
       "        text-align: right;\n",
       "    }\n",
       "</style>\n",
       "<table border=\"1\" class=\"dataframe\">\n",
       "  <thead>\n",
       "    <tr style=\"text-align: right;\">\n",
       "      <th></th>\n",
       "      <th>itching</th>\n",
       "      <th>skin_rash</th>\n",
       "      <th>nodal_skin_eruptions</th>\n",
       "      <th>continuous_sneezing</th>\n",
       "      <th>shivering</th>\n",
       "      <th>chills</th>\n",
       "      <th>joint_pain</th>\n",
       "      <th>stomach_pain</th>\n",
       "      <th>acidity</th>\n",
       "      <th>ulcers_on_tongue</th>\n",
       "      <th>...</th>\n",
       "      <th>blackheads</th>\n",
       "      <th>scurring</th>\n",
       "      <th>skin_peeling</th>\n",
       "      <th>silver_like_dusting</th>\n",
       "      <th>small_dents_in_nails</th>\n",
       "      <th>inflammatory_nails</th>\n",
       "      <th>blister</th>\n",
       "      <th>red_sore_around_nose</th>\n",
       "      <th>yellow_crust_ooze</th>\n",
       "      <th>prognosis</th>\n",
       "    </tr>\n",
       "  </thead>\n",
       "  <tbody>\n",
       "    <tr>\n",
       "      <th>0</th>\n",
       "      <td>False</td>\n",
       "      <td>False</td>\n",
       "      <td>False</td>\n",
       "      <td>False</td>\n",
       "      <td>False</td>\n",
       "      <td>False</td>\n",
       "      <td>False</td>\n",
       "      <td>False</td>\n",
       "      <td>False</td>\n",
       "      <td>False</td>\n",
       "      <td>...</td>\n",
       "      <td>False</td>\n",
       "      <td>False</td>\n",
       "      <td>False</td>\n",
       "      <td>False</td>\n",
       "      <td>False</td>\n",
       "      <td>False</td>\n",
       "      <td>False</td>\n",
       "      <td>False</td>\n",
       "      <td>False</td>\n",
       "      <td>False</td>\n",
       "    </tr>\n",
       "    <tr>\n",
       "      <th>1</th>\n",
       "      <td>False</td>\n",
       "      <td>False</td>\n",
       "      <td>False</td>\n",
       "      <td>False</td>\n",
       "      <td>False</td>\n",
       "      <td>False</td>\n",
       "      <td>False</td>\n",
       "      <td>False</td>\n",
       "      <td>False</td>\n",
       "      <td>False</td>\n",
       "      <td>...</td>\n",
       "      <td>False</td>\n",
       "      <td>False</td>\n",
       "      <td>False</td>\n",
       "      <td>False</td>\n",
       "      <td>False</td>\n",
       "      <td>False</td>\n",
       "      <td>False</td>\n",
       "      <td>False</td>\n",
       "      <td>False</td>\n",
       "      <td>False</td>\n",
       "    </tr>\n",
       "    <tr>\n",
       "      <th>2</th>\n",
       "      <td>False</td>\n",
       "      <td>False</td>\n",
       "      <td>False</td>\n",
       "      <td>False</td>\n",
       "      <td>False</td>\n",
       "      <td>False</td>\n",
       "      <td>False</td>\n",
       "      <td>False</td>\n",
       "      <td>False</td>\n",
       "      <td>False</td>\n",
       "      <td>...</td>\n",
       "      <td>False</td>\n",
       "      <td>False</td>\n",
       "      <td>False</td>\n",
       "      <td>False</td>\n",
       "      <td>False</td>\n",
       "      <td>False</td>\n",
       "      <td>False</td>\n",
       "      <td>False</td>\n",
       "      <td>False</td>\n",
       "      <td>False</td>\n",
       "    </tr>\n",
       "    <tr>\n",
       "      <th>3</th>\n",
       "      <td>False</td>\n",
       "      <td>False</td>\n",
       "      <td>False</td>\n",
       "      <td>False</td>\n",
       "      <td>False</td>\n",
       "      <td>False</td>\n",
       "      <td>False</td>\n",
       "      <td>False</td>\n",
       "      <td>False</td>\n",
       "      <td>False</td>\n",
       "      <td>...</td>\n",
       "      <td>False</td>\n",
       "      <td>False</td>\n",
       "      <td>False</td>\n",
       "      <td>False</td>\n",
       "      <td>False</td>\n",
       "      <td>False</td>\n",
       "      <td>False</td>\n",
       "      <td>False</td>\n",
       "      <td>False</td>\n",
       "      <td>False</td>\n",
       "    </tr>\n",
       "    <tr>\n",
       "      <th>4</th>\n",
       "      <td>False</td>\n",
       "      <td>False</td>\n",
       "      <td>False</td>\n",
       "      <td>False</td>\n",
       "      <td>False</td>\n",
       "      <td>False</td>\n",
       "      <td>False</td>\n",
       "      <td>False</td>\n",
       "      <td>False</td>\n",
       "      <td>False</td>\n",
       "      <td>...</td>\n",
       "      <td>False</td>\n",
       "      <td>False</td>\n",
       "      <td>False</td>\n",
       "      <td>False</td>\n",
       "      <td>False</td>\n",
       "      <td>False</td>\n",
       "      <td>False</td>\n",
       "      <td>False</td>\n",
       "      <td>False</td>\n",
       "      <td>False</td>\n",
       "    </tr>\n",
       "    <tr>\n",
       "      <th>...</th>\n",
       "      <td>...</td>\n",
       "      <td>...</td>\n",
       "      <td>...</td>\n",
       "      <td>...</td>\n",
       "      <td>...</td>\n",
       "      <td>...</td>\n",
       "      <td>...</td>\n",
       "      <td>...</td>\n",
       "      <td>...</td>\n",
       "      <td>...</td>\n",
       "      <td>...</td>\n",
       "      <td>...</td>\n",
       "      <td>...</td>\n",
       "      <td>...</td>\n",
       "      <td>...</td>\n",
       "      <td>...</td>\n",
       "      <td>...</td>\n",
       "      <td>...</td>\n",
       "      <td>...</td>\n",
       "      <td>...</td>\n",
       "      <td>...</td>\n",
       "    </tr>\n",
       "    <tr>\n",
       "      <th>4915</th>\n",
       "      <td>False</td>\n",
       "      <td>False</td>\n",
       "      <td>False</td>\n",
       "      <td>False</td>\n",
       "      <td>False</td>\n",
       "      <td>False</td>\n",
       "      <td>False</td>\n",
       "      <td>False</td>\n",
       "      <td>False</td>\n",
       "      <td>False</td>\n",
       "      <td>...</td>\n",
       "      <td>False</td>\n",
       "      <td>False</td>\n",
       "      <td>False</td>\n",
       "      <td>False</td>\n",
       "      <td>False</td>\n",
       "      <td>False</td>\n",
       "      <td>False</td>\n",
       "      <td>False</td>\n",
       "      <td>False</td>\n",
       "      <td>False</td>\n",
       "    </tr>\n",
       "    <tr>\n",
       "      <th>4916</th>\n",
       "      <td>False</td>\n",
       "      <td>False</td>\n",
       "      <td>False</td>\n",
       "      <td>False</td>\n",
       "      <td>False</td>\n",
       "      <td>False</td>\n",
       "      <td>False</td>\n",
       "      <td>False</td>\n",
       "      <td>False</td>\n",
       "      <td>False</td>\n",
       "      <td>...</td>\n",
       "      <td>False</td>\n",
       "      <td>False</td>\n",
       "      <td>False</td>\n",
       "      <td>False</td>\n",
       "      <td>False</td>\n",
       "      <td>False</td>\n",
       "      <td>False</td>\n",
       "      <td>False</td>\n",
       "      <td>False</td>\n",
       "      <td>False</td>\n",
       "    </tr>\n",
       "    <tr>\n",
       "      <th>4917</th>\n",
       "      <td>False</td>\n",
       "      <td>False</td>\n",
       "      <td>False</td>\n",
       "      <td>False</td>\n",
       "      <td>False</td>\n",
       "      <td>False</td>\n",
       "      <td>False</td>\n",
       "      <td>False</td>\n",
       "      <td>False</td>\n",
       "      <td>False</td>\n",
       "      <td>...</td>\n",
       "      <td>False</td>\n",
       "      <td>False</td>\n",
       "      <td>False</td>\n",
       "      <td>False</td>\n",
       "      <td>False</td>\n",
       "      <td>False</td>\n",
       "      <td>False</td>\n",
       "      <td>False</td>\n",
       "      <td>False</td>\n",
       "      <td>False</td>\n",
       "    </tr>\n",
       "    <tr>\n",
       "      <th>4918</th>\n",
       "      <td>False</td>\n",
       "      <td>False</td>\n",
       "      <td>False</td>\n",
       "      <td>False</td>\n",
       "      <td>False</td>\n",
       "      <td>False</td>\n",
       "      <td>False</td>\n",
       "      <td>False</td>\n",
       "      <td>False</td>\n",
       "      <td>False</td>\n",
       "      <td>...</td>\n",
       "      <td>False</td>\n",
       "      <td>False</td>\n",
       "      <td>False</td>\n",
       "      <td>False</td>\n",
       "      <td>False</td>\n",
       "      <td>False</td>\n",
       "      <td>False</td>\n",
       "      <td>False</td>\n",
       "      <td>False</td>\n",
       "      <td>False</td>\n",
       "    </tr>\n",
       "    <tr>\n",
       "      <th>4919</th>\n",
       "      <td>False</td>\n",
       "      <td>False</td>\n",
       "      <td>False</td>\n",
       "      <td>False</td>\n",
       "      <td>False</td>\n",
       "      <td>False</td>\n",
       "      <td>False</td>\n",
       "      <td>False</td>\n",
       "      <td>False</td>\n",
       "      <td>False</td>\n",
       "      <td>...</td>\n",
       "      <td>False</td>\n",
       "      <td>False</td>\n",
       "      <td>False</td>\n",
       "      <td>False</td>\n",
       "      <td>False</td>\n",
       "      <td>False</td>\n",
       "      <td>False</td>\n",
       "      <td>False</td>\n",
       "      <td>False</td>\n",
       "      <td>False</td>\n",
       "    </tr>\n",
       "  </tbody>\n",
       "</table>\n",
       "<p>4920 rows × 133 columns</p>\n",
       "</div>"
      ],
      "text/plain": [
       "      itching  skin_rash  nodal_skin_eruptions  continuous_sneezing  \\\n",
       "0       False      False                 False                False   \n",
       "1       False      False                 False                False   \n",
       "2       False      False                 False                False   \n",
       "3       False      False                 False                False   \n",
       "4       False      False                 False                False   \n",
       "...       ...        ...                   ...                  ...   \n",
       "4915    False      False                 False                False   \n",
       "4916    False      False                 False                False   \n",
       "4917    False      False                 False                False   \n",
       "4918    False      False                 False                False   \n",
       "4919    False      False                 False                False   \n",
       "\n",
       "      shivering  chills  joint_pain  stomach_pain  acidity  ulcers_on_tongue  \\\n",
       "0         False   False       False         False    False             False   \n",
       "1         False   False       False         False    False             False   \n",
       "2         False   False       False         False    False             False   \n",
       "3         False   False       False         False    False             False   \n",
       "4         False   False       False         False    False             False   \n",
       "...         ...     ...         ...           ...      ...               ...   \n",
       "4915      False   False       False         False    False             False   \n",
       "4916      False   False       False         False    False             False   \n",
       "4917      False   False       False         False    False             False   \n",
       "4918      False   False       False         False    False             False   \n",
       "4919      False   False       False         False    False             False   \n",
       "\n",
       "      ...  blackheads  scurring  skin_peeling  silver_like_dusting  \\\n",
       "0     ...       False     False         False                False   \n",
       "1     ...       False     False         False                False   \n",
       "2     ...       False     False         False                False   \n",
       "3     ...       False     False         False                False   \n",
       "4     ...       False     False         False                False   \n",
       "...   ...         ...       ...           ...                  ...   \n",
       "4915  ...       False     False         False                False   \n",
       "4916  ...       False     False         False                False   \n",
       "4917  ...       False     False         False                False   \n",
       "4918  ...       False     False         False                False   \n",
       "4919  ...       False     False         False                False   \n",
       "\n",
       "      small_dents_in_nails  inflammatory_nails  blister  red_sore_around_nose  \\\n",
       "0                    False               False    False                 False   \n",
       "1                    False               False    False                 False   \n",
       "2                    False               False    False                 False   \n",
       "3                    False               False    False                 False   \n",
       "4                    False               False    False                 False   \n",
       "...                    ...                 ...      ...                   ...   \n",
       "4915                 False               False    False                 False   \n",
       "4916                 False               False    False                 False   \n",
       "4917                 False               False    False                 False   \n",
       "4918                 False               False    False                 False   \n",
       "4919                 False               False    False                 False   \n",
       "\n",
       "      yellow_crust_ooze  prognosis  \n",
       "0                 False      False  \n",
       "1                 False      False  \n",
       "2                 False      False  \n",
       "3                 False      False  \n",
       "4                 False      False  \n",
       "...                 ...        ...  \n",
       "4915              False      False  \n",
       "4916              False      False  \n",
       "4917              False      False  \n",
       "4918              False      False  \n",
       "4919              False      False  \n",
       "\n",
       "[4920 rows x 133 columns]"
      ]
     },
     "execution_count": 12,
     "metadata": {},
     "output_type": "execute_result"
    }
   ],
   "source": [
    "data.isnull()"
   ]
  },
  {
   "cell_type": "code",
   "execution_count": 13,
   "id": "998df1cf-1670-4c3b-a26e-e9aaa5d0da84",
   "metadata": {},
   "outputs": [
    {
     "data": {
      "text/plain": [
       "itching                 0\n",
       "skin_rash               0\n",
       "nodal_skin_eruptions    0\n",
       "continuous_sneezing     0\n",
       "shivering               0\n",
       "                       ..\n",
       "inflammatory_nails      0\n",
       "blister                 0\n",
       "red_sore_around_nose    0\n",
       "yellow_crust_ooze       0\n",
       "prognosis               0\n",
       "Length: 133, dtype: int64"
      ]
     },
     "execution_count": 13,
     "metadata": {},
     "output_type": "execute_result"
    }
   ],
   "source": [
    "data.isnull().sum()"
   ]
  },
  {
   "cell_type": "code",
   "execution_count": null,
   "id": "711ef4de-fe7e-4efc-9e53-9044a2ef9624",
   "metadata": {},
   "outputs": [],
   "source": []
  },
  {
   "cell_type": "markdown",
   "id": "07dd269d-2605-4705-94e0-0e8a27482262",
   "metadata": {},
   "source": [
    "## checking Duplicate values"
   ]
  },
  {
   "cell_type": "code",
   "execution_count": 15,
   "id": "f7f6a5cf-f728-42f3-85fd-f424c179fd95",
   "metadata": {},
   "outputs": [
    {
     "data": {
      "text/plain": [
       "4616"
      ]
     },
     "execution_count": 15,
     "metadata": {},
     "output_type": "execute_result"
    }
   ],
   "source": [
    "data.duplicated().sum()"
   ]
  },
  {
   "cell_type": "code",
   "execution_count": 16,
   "id": "44a97291-ed2b-467d-bed2-5b73d0f3e097",
   "metadata": {},
   "outputs": [
    {
     "data": {
      "text/plain": [
       "0       False\n",
       "1       False\n",
       "2       False\n",
       "3       False\n",
       "4       False\n",
       "        ...  \n",
       "4915     True\n",
       "4916     True\n",
       "4917     True\n",
       "4918     True\n",
       "4919     True\n",
       "Length: 4920, dtype: bool"
      ]
     },
     "execution_count": 16,
     "metadata": {},
     "output_type": "execute_result"
    }
   ],
   "source": [
    "data.duplicated()"
   ]
  },
  {
   "cell_type": "code",
   "execution_count": null,
   "id": "a9d5cb03-a5ef-40fc-910f-cba3406e77b4",
   "metadata": {},
   "outputs": [],
   "source": []
  },
  {
   "cell_type": "markdown",
   "id": "ceb1d44e-3078-48f2-9748-42a51762bfe6",
   "metadata": {},
   "source": [
    "## Top 10 Most Common Symptoms"
   ]
  },
  {
   "cell_type": "code",
   "execution_count": 18,
   "id": "87981386-1ec0-4338-925e-3e1cb05cae22",
   "metadata": {},
   "outputs": [
    {
     "name": "stdout",
     "output_type": "stream",
     "text": [
      "Top 10 Most Common Symptoms:\n"
     ]
    },
    {
     "data": {
      "text/plain": [
       "fatigue              1932\n",
       "vomiting             1914\n",
       "high_fever           1362\n",
       "loss_of_appetite     1152\n",
       "nausea               1146\n",
       "headache             1134\n",
       "abdominal_pain       1032\n",
       "yellowish_skin        912\n",
       "yellowing_of_eyes     816\n",
       "chills                798\n",
       "dtype: int64"
      ]
     },
     "execution_count": 18,
     "metadata": {},
     "output_type": "execute_result"
    }
   ],
   "source": [
    "symptom_columns = data.columns[:-1]  # excluding the prognosis column\n",
    "symptom_counts = data[symptom_columns].sum().sort_values(ascending=False)\n",
    "print('\\\n",
    "Top 10 Most Common Symptoms:')\n",
    "symptom_counts.head(10)"
   ]
  },
  {
   "cell_type": "markdown",
   "id": "0dbcf909-ffed-413e-a156-10a60564cd02",
   "metadata": {},
   "source": [
    "## visualize the correlation between the top 10 symptoms"
   ]
  },
  {
   "cell_type": "code",
   "execution_count": 20,
   "id": "bee0b0a1-2095-40e5-b962-b79d39688c4a",
   "metadata": {},
   "outputs": [
    {
     "data": {
      "image/png": "[encoded data removed]",
      "text/plain": [
       "<Figure size 800x600 with 2 Axes>"
      ]
     },
     "metadata": {},
     "output_type": "display_data"
    }
   ],
   "source": [
    "import matplotlib.pyplot as plt\n",
    "import seaborn as sns\n",
    "corr = data[symptom_counts.head(10).index].corr()\n",
    "plt.figure(figsize=(8, 6))\n",
    "sns.heatmap(corr, annot=True, cmap='coolwarm', fmt='.2f')\n",
    "plt.title('Correlation Matrix of Top 10 Symptoms')\n",
    "plt.show()"
   ]
  },
  {
   "cell_type": "markdown",
   "id": "43e663ac-3351-4e41-883e-2b5cda102b07",
   "metadata": {},
   "source": [
    "## Data Encoding for model\n",
    "Encoding of only prognosis column because other columns are already encoded"
   ]
  },
  {
   "cell_type": "code",
   "execution_count": 22,
   "id": "47a5fc8e-5fc3-41c1-af00-0e56e8342338",
   "metadata": {},
   "outputs": [
    {
     "data": {
      "text/plain": [
       "array([15, 15, 15, ..., 38, 35, 27])"
      ]
     },
     "execution_count": 22,
     "metadata": {},
     "output_type": "execute_result"
    }
   ],
   "source": [
    "from sklearn.preprocessing import LabelEncoder\n",
    "\n",
    "X = data.drop('prognosis', axis=1)\n",
    "y = data['prognosis']\n",
    "\n",
    "# ecoding prognonsis\n",
    "le = LabelEncoder()\n",
    "le.fit(y)\n",
    "Y = le.transform(y)    \n",
    "Y"
   ]
  },
  {
   "cell_type": "code",
   "execution_count": null,
   "id": "83b94707-f5ef-4264-a69d-0288fc5cde43",
   "metadata": {},
   "outputs": [],
   "source": []
  },
  {
   "cell_type": "markdown",
   "id": "18c76b8e-e954-47a3-8d66-7f00c7c95e3c",
   "metadata": {},
   "source": [
    "## Split Data for Training and Testing"
   ]
  },
  {
   "cell_type": "code",
   "execution_count": 24,
   "id": "f43accb9-b194-48fc-bff7-26fa005d3b55",
   "metadata": {},
   "outputs": [
    {
     "data": {
      "text/html": [
       "<div>\n",
       "<style scoped>\n",
       "    .dataframe tbody tr th:only-of-type {\n",
       "        vertical-align: middle;\n",
       "    }\n",
       "\n",
       "    .dataframe tbody tr th {\n",
       "        vertical-align: top;\n",
       "    }\n",
       "\n",
       "    .dataframe thead th {\n",
       "        text-align: right;\n",
       "    }\n",
       "</style>\n",
       "<table border=\"1\" class=\"dataframe\">\n",
       "  <thead>\n",
       "    <tr style=\"text-align: right;\">\n",
       "      <th></th>\n",
       "      <th>itching</th>\n",
       "      <th>skin_rash</th>\n",
       "      <th>nodal_skin_eruptions</th>\n",
       "      <th>continuous_sneezing</th>\n",
       "      <th>shivering</th>\n",
       "      <th>chills</th>\n",
       "      <th>joint_pain</th>\n",
       "      <th>stomach_pain</th>\n",
       "      <th>acidity</th>\n",
       "      <th>ulcers_on_tongue</th>\n",
       "      <th>...</th>\n",
       "      <th>pus_filled_pimples</th>\n",
       "      <th>blackheads</th>\n",
       "      <th>scurring</th>\n",
       "      <th>skin_peeling</th>\n",
       "      <th>silver_like_dusting</th>\n",
       "      <th>small_dents_in_nails</th>\n",
       "      <th>inflammatory_nails</th>\n",
       "      <th>blister</th>\n",
       "      <th>red_sore_around_nose</th>\n",
       "      <th>yellow_crust_ooze</th>\n",
       "    </tr>\n",
       "  </thead>\n",
       "  <tbody>\n",
       "    <tr>\n",
       "      <th>180</th>\n",
       "      <td>0</td>\n",
       "      <td>0</td>\n",
       "      <td>0</td>\n",
       "      <td>0</td>\n",
       "      <td>0</td>\n",
       "      <td>1</td>\n",
       "      <td>0</td>\n",
       "      <td>0</td>\n",
       "      <td>0</td>\n",
       "      <td>0</td>\n",
       "      <td>...</td>\n",
       "      <td>0</td>\n",
       "      <td>0</td>\n",
       "      <td>0</td>\n",
       "      <td>0</td>\n",
       "      <td>0</td>\n",
       "      <td>0</td>\n",
       "      <td>0</td>\n",
       "      <td>0</td>\n",
       "      <td>0</td>\n",
       "      <td>0</td>\n",
       "    </tr>\n",
       "    <tr>\n",
       "      <th>1910</th>\n",
       "      <td>0</td>\n",
       "      <td>0</td>\n",
       "      <td>0</td>\n",
       "      <td>0</td>\n",
       "      <td>0</td>\n",
       "      <td>1</td>\n",
       "      <td>0</td>\n",
       "      <td>0</td>\n",
       "      <td>0</td>\n",
       "      <td>0</td>\n",
       "      <td>...</td>\n",
       "      <td>0</td>\n",
       "      <td>0</td>\n",
       "      <td>0</td>\n",
       "      <td>0</td>\n",
       "      <td>0</td>\n",
       "      <td>0</td>\n",
       "      <td>0</td>\n",
       "      <td>0</td>\n",
       "      <td>0</td>\n",
       "      <td>0</td>\n",
       "    </tr>\n",
       "    <tr>\n",
       "      <th>2475</th>\n",
       "      <td>0</td>\n",
       "      <td>0</td>\n",
       "      <td>0</td>\n",
       "      <td>0</td>\n",
       "      <td>0</td>\n",
       "      <td>1</td>\n",
       "      <td>0</td>\n",
       "      <td>0</td>\n",
       "      <td>0</td>\n",
       "      <td>0</td>\n",
       "      <td>...</td>\n",
       "      <td>0</td>\n",
       "      <td>0</td>\n",
       "      <td>0</td>\n",
       "      <td>0</td>\n",
       "      <td>0</td>\n",
       "      <td>0</td>\n",
       "      <td>0</td>\n",
       "      <td>0</td>\n",
       "      <td>0</td>\n",
       "      <td>0</td>\n",
       "    </tr>\n",
       "    <tr>\n",
       "      <th>4278</th>\n",
       "      <td>1</td>\n",
       "      <td>0</td>\n",
       "      <td>0</td>\n",
       "      <td>0</td>\n",
       "      <td>0</td>\n",
       "      <td>0</td>\n",
       "      <td>0</td>\n",
       "      <td>0</td>\n",
       "      <td>0</td>\n",
       "      <td>0</td>\n",
       "      <td>...</td>\n",
       "      <td>0</td>\n",
       "      <td>0</td>\n",
       "      <td>0</td>\n",
       "      <td>0</td>\n",
       "      <td>0</td>\n",
       "      <td>0</td>\n",
       "      <td>0</td>\n",
       "      <td>0</td>\n",
       "      <td>0</td>\n",
       "      <td>0</td>\n",
       "    </tr>\n",
       "    <tr>\n",
       "      <th>709</th>\n",
       "      <td>0</td>\n",
       "      <td>0</td>\n",
       "      <td>0</td>\n",
       "      <td>0</td>\n",
       "      <td>0</td>\n",
       "      <td>0</td>\n",
       "      <td>0</td>\n",
       "      <td>0</td>\n",
       "      <td>0</td>\n",
       "      <td>0</td>\n",
       "      <td>...</td>\n",
       "      <td>0</td>\n",
       "      <td>0</td>\n",
       "      <td>0</td>\n",
       "      <td>0</td>\n",
       "      <td>0</td>\n",
       "      <td>0</td>\n",
       "      <td>0</td>\n",
       "      <td>0</td>\n",
       "      <td>0</td>\n",
       "      <td>0</td>\n",
       "    </tr>\n",
       "    <tr>\n",
       "      <th>...</th>\n",
       "      <td>...</td>\n",
       "      <td>...</td>\n",
       "      <td>...</td>\n",
       "      <td>...</td>\n",
       "      <td>...</td>\n",
       "      <td>...</td>\n",
       "      <td>...</td>\n",
       "      <td>...</td>\n",
       "      <td>...</td>\n",
       "      <td>...</td>\n",
       "      <td>...</td>\n",
       "      <td>...</td>\n",
       "      <td>...</td>\n",
       "      <td>...</td>\n",
       "      <td>...</td>\n",
       "      <td>...</td>\n",
       "      <td>...</td>\n",
       "      <td>...</td>\n",
       "      <td>...</td>\n",
       "      <td>...</td>\n",
       "      <td>...</td>\n",
       "    </tr>\n",
       "    <tr>\n",
       "      <th>1607</th>\n",
       "      <td>0</td>\n",
       "      <td>1</td>\n",
       "      <td>0</td>\n",
       "      <td>0</td>\n",
       "      <td>0</td>\n",
       "      <td>0</td>\n",
       "      <td>0</td>\n",
       "      <td>0</td>\n",
       "      <td>0</td>\n",
       "      <td>0</td>\n",
       "      <td>...</td>\n",
       "      <td>1</td>\n",
       "      <td>1</td>\n",
       "      <td>0</td>\n",
       "      <td>0</td>\n",
       "      <td>0</td>\n",
       "      <td>0</td>\n",
       "      <td>0</td>\n",
       "      <td>0</td>\n",
       "      <td>0</td>\n",
       "      <td>0</td>\n",
       "    </tr>\n",
       "    <tr>\n",
       "      <th>3915</th>\n",
       "      <td>1</td>\n",
       "      <td>0</td>\n",
       "      <td>0</td>\n",
       "      <td>0</td>\n",
       "      <td>0</td>\n",
       "      <td>0</td>\n",
       "      <td>0</td>\n",
       "      <td>0</td>\n",
       "      <td>0</td>\n",
       "      <td>0</td>\n",
       "      <td>...</td>\n",
       "      <td>0</td>\n",
       "      <td>0</td>\n",
       "      <td>0</td>\n",
       "      <td>0</td>\n",
       "      <td>0</td>\n",
       "      <td>0</td>\n",
       "      <td>0</td>\n",
       "      <td>0</td>\n",
       "      <td>0</td>\n",
       "      <td>0</td>\n",
       "    </tr>\n",
       "    <tr>\n",
       "      <th>1428</th>\n",
       "      <td>0</td>\n",
       "      <td>0</td>\n",
       "      <td>0</td>\n",
       "      <td>0</td>\n",
       "      <td>0</td>\n",
       "      <td>0</td>\n",
       "      <td>1</td>\n",
       "      <td>0</td>\n",
       "      <td>0</td>\n",
       "      <td>0</td>\n",
       "      <td>...</td>\n",
       "      <td>0</td>\n",
       "      <td>0</td>\n",
       "      <td>0</td>\n",
       "      <td>0</td>\n",
       "      <td>0</td>\n",
       "      <td>0</td>\n",
       "      <td>0</td>\n",
       "      <td>0</td>\n",
       "      <td>0</td>\n",
       "      <td>0</td>\n",
       "    </tr>\n",
       "    <tr>\n",
       "      <th>4367</th>\n",
       "      <td>0</td>\n",
       "      <td>0</td>\n",
       "      <td>0</td>\n",
       "      <td>0</td>\n",
       "      <td>0</td>\n",
       "      <td>0</td>\n",
       "      <td>0</td>\n",
       "      <td>0</td>\n",
       "      <td>0</td>\n",
       "      <td>0</td>\n",
       "      <td>...</td>\n",
       "      <td>0</td>\n",
       "      <td>0</td>\n",
       "      <td>0</td>\n",
       "      <td>0</td>\n",
       "      <td>0</td>\n",
       "      <td>0</td>\n",
       "      <td>0</td>\n",
       "      <td>0</td>\n",
       "      <td>0</td>\n",
       "      <td>0</td>\n",
       "    </tr>\n",
       "    <tr>\n",
       "      <th>2522</th>\n",
       "      <td>0</td>\n",
       "      <td>0</td>\n",
       "      <td>0</td>\n",
       "      <td>0</td>\n",
       "      <td>0</td>\n",
       "      <td>0</td>\n",
       "      <td>0</td>\n",
       "      <td>0</td>\n",
       "      <td>0</td>\n",
       "      <td>0</td>\n",
       "      <td>...</td>\n",
       "      <td>0</td>\n",
       "      <td>0</td>\n",
       "      <td>0</td>\n",
       "      <td>0</td>\n",
       "      <td>0</td>\n",
       "      <td>0</td>\n",
       "      <td>0</td>\n",
       "      <td>0</td>\n",
       "      <td>0</td>\n",
       "      <td>0</td>\n",
       "    </tr>\n",
       "  </tbody>\n",
       "</table>\n",
       "<p>3444 rows × 132 columns</p>\n",
       "</div>"
      ],
      "text/plain": [
       "      itching  skin_rash  nodal_skin_eruptions  continuous_sneezing  \\\n",
       "180         0          0                     0                    0   \n",
       "1910        0          0                     0                    0   \n",
       "2475        0          0                     0                    0   \n",
       "4278        1          0                     0                    0   \n",
       "709         0          0                     0                    0   \n",
       "...       ...        ...                   ...                  ...   \n",
       "1607        0          1                     0                    0   \n",
       "3915        1          0                     0                    0   \n",
       "1428        0          0                     0                    0   \n",
       "4367        0          0                     0                    0   \n",
       "2522        0          0                     0                    0   \n",
       "\n",
       "      shivering  chills  joint_pain  stomach_pain  acidity  ulcers_on_tongue  \\\n",
       "180           0       1           0             0        0                 0   \n",
       "1910          0       1           0             0        0                 0   \n",
       "2475          0       1           0             0        0                 0   \n",
       "4278          0       0           0             0        0                 0   \n",
       "709           0       0           0             0        0                 0   \n",
       "...         ...     ...         ...           ...      ...               ...   \n",
       "1607          0       0           0             0        0                 0   \n",
       "3915          0       0           0             0        0                 0   \n",
       "1428          0       0           1             0        0                 0   \n",
       "4367          0       0           0             0        0                 0   \n",
       "2522          0       0           0             0        0                 0   \n",
       "\n",
       "      ...  pus_filled_pimples  blackheads  scurring  skin_peeling  \\\n",
       "180   ...                   0           0         0             0   \n",
       "1910  ...                   0           0         0             0   \n",
       "2475  ...                   0           0         0             0   \n",
       "4278  ...                   0           0         0             0   \n",
       "709   ...                   0           0         0             0   \n",
       "...   ...                 ...         ...       ...           ...   \n",
       "1607  ...                   1           1         0             0   \n",
       "3915  ...                   0           0         0             0   \n",
       "1428  ...                   0           0         0             0   \n",
       "4367  ...                   0           0         0             0   \n",
       "2522  ...                   0           0         0             0   \n",
       "\n",
       "      silver_like_dusting  small_dents_in_nails  inflammatory_nails  blister  \\\n",
       "180                     0                     0                   0        0   \n",
       "1910                    0                     0                   0        0   \n",
       "2475                    0                     0                   0        0   \n",
       "4278                    0                     0                   0        0   \n",
       "709                     0                     0                   0        0   \n",
       "...                   ...                   ...                 ...      ...   \n",
       "1607                    0                     0                   0        0   \n",
       "3915                    0                     0                   0        0   \n",
       "1428                    0                     0                   0        0   \n",
       "4367                    0                     0                   0        0   \n",
       "2522                    0                     0                   0        0   \n",
       "\n",
       "      red_sore_around_nose  yellow_crust_ooze  \n",
       "180                      0                  0  \n",
       "1910                     0                  0  \n",
       "2475                     0                  0  \n",
       "4278                     0                  0  \n",
       "709                      0                  0  \n",
       "...                    ...                ...  \n",
       "1607                     0                  0  \n",
       "3915                     0                  0  \n",
       "1428                     0                  0  \n",
       "4367                     0                  0  \n",
       "2522                     0                  0  \n",
       "\n",
       "[3444 rows x 132 columns]"
      ]
     },
     "execution_count": 24,
     "metadata": {},
     "output_type": "execute_result"
    }
   ],
   "source": [
    "from sklearn.model_selection import train_test_split\n",
    "X_train, X_test, y_train, y_test = train_test_split(X, Y, test_size=0.3, random_state=20)\n",
    "X_train"
   ]
  },
  {
   "cell_type": "code",
   "execution_count": 25,
   "id": "2ea4b0bc-e0da-4297-9e8a-72579015e226",
   "metadata": {},
   "outputs": [
    {
     "data": {
      "text/html": [
       "<div>\n",
       "<style scoped>\n",
       "    .dataframe tbody tr th:only-of-type {\n",
       "        vertical-align: middle;\n",
       "    }\n",
       "\n",
       "    .dataframe tbody tr th {\n",
       "        vertical-align: top;\n",
       "    }\n",
       "\n",
       "    .dataframe thead th {\n",
       "        text-align: right;\n",
       "    }\n",
       "</style>\n",
       "<table border=\"1\" class=\"dataframe\">\n",
       "  <thead>\n",
       "    <tr style=\"text-align: right;\">\n",
       "      <th></th>\n",
       "      <th>itching</th>\n",
       "      <th>skin_rash</th>\n",
       "      <th>nodal_skin_eruptions</th>\n",
       "      <th>continuous_sneezing</th>\n",
       "      <th>shivering</th>\n",
       "      <th>chills</th>\n",
       "      <th>joint_pain</th>\n",
       "      <th>stomach_pain</th>\n",
       "      <th>acidity</th>\n",
       "      <th>ulcers_on_tongue</th>\n",
       "      <th>...</th>\n",
       "      <th>pus_filled_pimples</th>\n",
       "      <th>blackheads</th>\n",
       "      <th>scurring</th>\n",
       "      <th>skin_peeling</th>\n",
       "      <th>silver_like_dusting</th>\n",
       "      <th>small_dents_in_nails</th>\n",
       "      <th>inflammatory_nails</th>\n",
       "      <th>blister</th>\n",
       "      <th>red_sore_around_nose</th>\n",
       "      <th>yellow_crust_ooze</th>\n",
       "    </tr>\n",
       "  </thead>\n",
       "  <tbody>\n",
       "    <tr>\n",
       "      <th>4037</th>\n",
       "      <td>0</td>\n",
       "      <td>0</td>\n",
       "      <td>0</td>\n",
       "      <td>0</td>\n",
       "      <td>0</td>\n",
       "      <td>0</td>\n",
       "      <td>1</td>\n",
       "      <td>0</td>\n",
       "      <td>0</td>\n",
       "      <td>0</td>\n",
       "      <td>...</td>\n",
       "      <td>0</td>\n",
       "      <td>0</td>\n",
       "      <td>0</td>\n",
       "      <td>0</td>\n",
       "      <td>0</td>\n",
       "      <td>0</td>\n",
       "      <td>0</td>\n",
       "      <td>0</td>\n",
       "      <td>0</td>\n",
       "      <td>0</td>\n",
       "    </tr>\n",
       "    <tr>\n",
       "      <th>4191</th>\n",
       "      <td>0</td>\n",
       "      <td>0</td>\n",
       "      <td>0</td>\n",
       "      <td>0</td>\n",
       "      <td>0</td>\n",
       "      <td>0</td>\n",
       "      <td>0</td>\n",
       "      <td>0</td>\n",
       "      <td>0</td>\n",
       "      <td>0</td>\n",
       "      <td>...</td>\n",
       "      <td>0</td>\n",
       "      <td>0</td>\n",
       "      <td>0</td>\n",
       "      <td>0</td>\n",
       "      <td>0</td>\n",
       "      <td>0</td>\n",
       "      <td>0</td>\n",
       "      <td>0</td>\n",
       "      <td>0</td>\n",
       "      <td>0</td>\n",
       "    </tr>\n",
       "    <tr>\n",
       "      <th>432</th>\n",
       "      <td>0</td>\n",
       "      <td>0</td>\n",
       "      <td>0</td>\n",
       "      <td>0</td>\n",
       "      <td>0</td>\n",
       "      <td>0</td>\n",
       "      <td>0</td>\n",
       "      <td>1</td>\n",
       "      <td>1</td>\n",
       "      <td>0</td>\n",
       "      <td>...</td>\n",
       "      <td>0</td>\n",
       "      <td>0</td>\n",
       "      <td>0</td>\n",
       "      <td>0</td>\n",
       "      <td>0</td>\n",
       "      <td>0</td>\n",
       "      <td>0</td>\n",
       "      <td>0</td>\n",
       "      <td>0</td>\n",
       "      <td>0</td>\n",
       "    </tr>\n",
       "    <tr>\n",
       "      <th>1266</th>\n",
       "      <td>1</td>\n",
       "      <td>0</td>\n",
       "      <td>0</td>\n",
       "      <td>0</td>\n",
       "      <td>0</td>\n",
       "      <td>0</td>\n",
       "      <td>0</td>\n",
       "      <td>0</td>\n",
       "      <td>0</td>\n",
       "      <td>0</td>\n",
       "      <td>...</td>\n",
       "      <td>0</td>\n",
       "      <td>0</td>\n",
       "      <td>0</td>\n",
       "      <td>0</td>\n",
       "      <td>0</td>\n",
       "      <td>0</td>\n",
       "      <td>0</td>\n",
       "      <td>0</td>\n",
       "      <td>0</td>\n",
       "      <td>0</td>\n",
       "    </tr>\n",
       "    <tr>\n",
       "      <th>3765</th>\n",
       "      <td>0</td>\n",
       "      <td>0</td>\n",
       "      <td>0</td>\n",
       "      <td>0</td>\n",
       "      <td>0</td>\n",
       "      <td>0</td>\n",
       "      <td>1</td>\n",
       "      <td>0</td>\n",
       "      <td>0</td>\n",
       "      <td>0</td>\n",
       "      <td>...</td>\n",
       "      <td>0</td>\n",
       "      <td>0</td>\n",
       "      <td>0</td>\n",
       "      <td>0</td>\n",
       "      <td>0</td>\n",
       "      <td>0</td>\n",
       "      <td>0</td>\n",
       "      <td>0</td>\n",
       "      <td>0</td>\n",
       "      <td>0</td>\n",
       "    </tr>\n",
       "    <tr>\n",
       "      <th>...</th>\n",
       "      <td>...</td>\n",
       "      <td>...</td>\n",
       "      <td>...</td>\n",
       "      <td>...</td>\n",
       "      <td>...</td>\n",
       "      <td>...</td>\n",
       "      <td>...</td>\n",
       "      <td>...</td>\n",
       "      <td>...</td>\n",
       "      <td>...</td>\n",
       "      <td>...</td>\n",
       "      <td>...</td>\n",
       "      <td>...</td>\n",
       "      <td>...</td>\n",
       "      <td>...</td>\n",
       "      <td>...</td>\n",
       "      <td>...</td>\n",
       "      <td>...</td>\n",
       "      <td>...</td>\n",
       "      <td>...</td>\n",
       "      <td>...</td>\n",
       "    </tr>\n",
       "    <tr>\n",
       "      <th>2837</th>\n",
       "      <td>0</td>\n",
       "      <td>0</td>\n",
       "      <td>0</td>\n",
       "      <td>0</td>\n",
       "      <td>0</td>\n",
       "      <td>0</td>\n",
       "      <td>0</td>\n",
       "      <td>0</td>\n",
       "      <td>0</td>\n",
       "      <td>0</td>\n",
       "      <td>...</td>\n",
       "      <td>0</td>\n",
       "      <td>0</td>\n",
       "      <td>0</td>\n",
       "      <td>0</td>\n",
       "      <td>0</td>\n",
       "      <td>0</td>\n",
       "      <td>0</td>\n",
       "      <td>0</td>\n",
       "      <td>0</td>\n",
       "      <td>0</td>\n",
       "    </tr>\n",
       "    <tr>\n",
       "      <th>2327</th>\n",
       "      <td>0</td>\n",
       "      <td>0</td>\n",
       "      <td>0</td>\n",
       "      <td>0</td>\n",
       "      <td>0</td>\n",
       "      <td>1</td>\n",
       "      <td>0</td>\n",
       "      <td>0</td>\n",
       "      <td>0</td>\n",
       "      <td>0</td>\n",
       "      <td>...</td>\n",
       "      <td>0</td>\n",
       "      <td>0</td>\n",
       "      <td>0</td>\n",
       "      <td>0</td>\n",
       "      <td>0</td>\n",
       "      <td>0</td>\n",
       "      <td>0</td>\n",
       "      <td>0</td>\n",
       "      <td>0</td>\n",
       "      <td>0</td>\n",
       "    </tr>\n",
       "    <tr>\n",
       "      <th>1399</th>\n",
       "      <td>1</td>\n",
       "      <td>1</td>\n",
       "      <td>0</td>\n",
       "      <td>0</td>\n",
       "      <td>0</td>\n",
       "      <td>0</td>\n",
       "      <td>0</td>\n",
       "      <td>0</td>\n",
       "      <td>0</td>\n",
       "      <td>0</td>\n",
       "      <td>...</td>\n",
       "      <td>0</td>\n",
       "      <td>0</td>\n",
       "      <td>0</td>\n",
       "      <td>0</td>\n",
       "      <td>0</td>\n",
       "      <td>0</td>\n",
       "      <td>0</td>\n",
       "      <td>0</td>\n",
       "      <td>0</td>\n",
       "      <td>0</td>\n",
       "    </tr>\n",
       "    <tr>\n",
       "      <th>1906</th>\n",
       "      <td>0</td>\n",
       "      <td>0</td>\n",
       "      <td>0</td>\n",
       "      <td>1</td>\n",
       "      <td>0</td>\n",
       "      <td>1</td>\n",
       "      <td>0</td>\n",
       "      <td>0</td>\n",
       "      <td>0</td>\n",
       "      <td>0</td>\n",
       "      <td>...</td>\n",
       "      <td>0</td>\n",
       "      <td>0</td>\n",
       "      <td>0</td>\n",
       "      <td>0</td>\n",
       "      <td>0</td>\n",
       "      <td>0</td>\n",
       "      <td>0</td>\n",
       "      <td>0</td>\n",
       "      <td>0</td>\n",
       "      <td>0</td>\n",
       "    </tr>\n",
       "    <tr>\n",
       "      <th>4474</th>\n",
       "      <td>0</td>\n",
       "      <td>0</td>\n",
       "      <td>0</td>\n",
       "      <td>0</td>\n",
       "      <td>0</td>\n",
       "      <td>0</td>\n",
       "      <td>0</td>\n",
       "      <td>0</td>\n",
       "      <td>0</td>\n",
       "      <td>0</td>\n",
       "      <td>...</td>\n",
       "      <td>0</td>\n",
       "      <td>0</td>\n",
       "      <td>0</td>\n",
       "      <td>0</td>\n",
       "      <td>0</td>\n",
       "      <td>0</td>\n",
       "      <td>0</td>\n",
       "      <td>0</td>\n",
       "      <td>0</td>\n",
       "      <td>0</td>\n",
       "    </tr>\n",
       "  </tbody>\n",
       "</table>\n",
       "<p>1476 rows × 132 columns</p>\n",
       "</div>"
      ],
      "text/plain": [
       "      itching  skin_rash  nodal_skin_eruptions  continuous_sneezing  \\\n",
       "4037        0          0                     0                    0   \n",
       "4191        0          0                     0                    0   \n",
       "432         0          0                     0                    0   \n",
       "1266        1          0                     0                    0   \n",
       "3765        0          0                     0                    0   \n",
       "...       ...        ...                   ...                  ...   \n",
       "2837        0          0                     0                    0   \n",
       "2327        0          0                     0                    0   \n",
       "1399        1          1                     0                    0   \n",
       "1906        0          0                     0                    1   \n",
       "4474        0          0                     0                    0   \n",
       "\n",
       "      shivering  chills  joint_pain  stomach_pain  acidity  ulcers_on_tongue  \\\n",
       "4037          0       0           1             0        0                 0   \n",
       "4191          0       0           0             0        0                 0   \n",
       "432           0       0           0             1        1                 0   \n",
       "1266          0       0           0             0        0                 0   \n",
       "3765          0       0           1             0        0                 0   \n",
       "...         ...     ...         ...           ...      ...               ...   \n",
       "2837          0       0           0             0        0                 0   \n",
       "2327          0       1           0             0        0                 0   \n",
       "1399          0       0           0             0        0                 0   \n",
       "1906          0       1           0             0        0                 0   \n",
       "4474          0       0           0             0        0                 0   \n",
       "\n",
       "      ...  pus_filled_pimples  blackheads  scurring  skin_peeling  \\\n",
       "4037  ...                   0           0         0             0   \n",
       "4191  ...                   0           0         0             0   \n",
       "432   ...                   0           0         0             0   \n",
       "1266  ...                   0           0         0             0   \n",
       "3765  ...                   0           0         0             0   \n",
       "...   ...                 ...         ...       ...           ...   \n",
       "2837  ...                   0           0         0             0   \n",
       "2327  ...                   0           0         0             0   \n",
       "1399  ...                   0           0         0             0   \n",
       "1906  ...                   0           0         0             0   \n",
       "4474  ...                   0           0         0             0   \n",
       "\n",
       "      silver_like_dusting  small_dents_in_nails  inflammatory_nails  blister  \\\n",
       "4037                    0                     0                   0        0   \n",
       "4191                    0                     0                   0        0   \n",
       "432                     0                     0                   0        0   \n",
       "1266                    0                     0                   0        0   \n",
       "3765                    0                     0                   0        0   \n",
       "...                   ...                   ...                 ...      ...   \n",
       "2837                    0                     0                   0        0   \n",
       "2327                    0                     0                   0        0   \n",
       "1399                    0                     0                   0        0   \n",
       "1906                    0                     0                   0        0   \n",
       "4474                    0                     0                   0        0   \n",
       "\n",
       "      red_sore_around_nose  yellow_crust_ooze  \n",
       "4037                     0                  0  \n",
       "4191                     0                  0  \n",
       "432                      0                  0  \n",
       "1266                     0                  0  \n",
       "3765                     0                  0  \n",
       "...                    ...                ...  \n",
       "2837                     0                  0  \n",
       "2327                     0                  0  \n",
       "1399                     0                  0  \n",
       "1906                     0                  0  \n",
       "4474                     0                  0  \n",
       "\n",
       "[1476 rows x 132 columns]"
      ]
     },
     "execution_count": 25,
     "metadata": {},
     "output_type": "execute_result"
    }
   ],
   "source": [
    "X_test"
   ]
  },
  {
   "cell_type": "code",
   "execution_count": 26,
   "id": "41f2a891-38a5-4e42-9d6c-456f6e558897",
   "metadata": {},
   "outputs": [
    {
     "data": {
      "text/plain": [
       "array([37, 34, 29, ..., 40, 20, 20])"
      ]
     },
     "execution_count": 26,
     "metadata": {},
     "output_type": "execute_result"
    }
   ],
   "source": [
    "y_train"
   ]
  },
  {
   "cell_type": "code",
   "execution_count": 27,
   "id": "4698e987-9ba2-4666-9957-c2c2903d820d",
   "metadata": {},
   "outputs": [
    {
     "data": {
      "text/plain": [
       "array([40,  6, 16, ...,  8, 10, 33])"
      ]
     },
     "execution_count": 27,
     "metadata": {},
     "output_type": "execute_result"
    }
   ],
   "source": [
    "y_test"
   ]
  },
  {
   "cell_type": "code",
   "execution_count": null,
   "id": "b1146ef4-19fe-4d44-bb96-f8a96abf92af",
   "metadata": {},
   "outputs": [],
   "source": []
  },
  {
   "cell_type": "markdown",
   "id": "b54a1c28-a888-43ef-b8f8-f3e7e2417b36",
   "metadata": {},
   "source": [
    "## Import Models "
   ]
  },
  {
   "cell_type": "code",
   "execution_count": 29,
   "id": "3912e741-8f5e-4221-b7e6-1545f6f9d232",
   "metadata": {},
   "outputs": [],
   "source": [
    "import numpy as np\n",
    "from sklearn.datasets import make_classification\n",
    "from sklearn.model_selection import train_test_split\n",
    "from sklearn.svm import SVC\n",
    "from sklearn.ensemble import RandomForestClassifier, GradientBoostingClassifier\n",
    "from sklearn.neighbors import KNeighborsClassifier"
   ]
  },
  {
   "cell_type": "markdown",
   "id": "0c4d7b0d-15c2-4217-a52e-5a590c5e521b",
   "metadata": {},
   "source": [
    "## dictionary to store all models with parameters"
   ]
  },
  {
   "cell_type": "code",
   "execution_count": 31,
   "id": "37d6087b-abee-4695-9c0b-053701183ac6",
   "metadata": {},
   "outputs": [],
   "source": [
    "models = {\n",
    "    'SVC': SVC(kernel='linear'),\n",
    "    'RandomForest': RandomForestClassifier(n_estimators=100, random_state=42),\n",
    "    'GradientBoosting': GradientBoostingClassifier(n_estimators=100, random_state=42),\n",
    "    'KNeighbors': KNeighborsClassifier(n_neighbors=5),\n",
    "}"
   ]
  },
  {
   "cell_type": "code",
   "execution_count": 32,
   "id": "2686fdda-530c-4be3-8f72-4effdc75741d",
   "metadata": {},
   "outputs": [],
   "source": [
    "import numpy as np\n",
    "X_train = np.ascontiguousarray(X_train)\n",
    "X_test = np.ascontiguousarray(X_test)"
   ]
  },
  {
   "cell_type": "code",
   "execution_count": 33,
   "id": "da9cfe95-3b3d-4ed5-b0bb-9b75889f6756",
   "metadata": {},
   "outputs": [],
   "source": [
    "from sklearn.metrics import accuracy_score, precision_score, recall_score, f1_score, confusion_matrix, classification_report"
   ]
  },
  {
   "cell_type": "markdown",
   "id": "97bdc22e-23a5-4bd0-85eb-e8723b6c17d0",
   "metadata": {},
   "source": [
    "## Train and Test all models \n",
    "once at a time using for loop"
   ]
  },
  {
   "cell_type": "code",
   "execution_count": 35,
   "id": "d489d542-ce58-4e49-b55a-77023b0314a3",
   "metadata": {},
   "outputs": [
    {
     "name": "stdout",
     "output_type": "stream",
     "text": [
      "SVC Accuracy        : 1.0\n",
      "SVC Precision       : 1.0\n",
      "SVC Recall          : 1.0\n",
      "SVC F1 Score        : 1.0\n",
      "SVC Confusion Matrix:\n",
      "[[40  0  0 ...  0  0  0]\n",
      " [ 0 43  0 ...  0  0  0]\n",
      " [ 0  0 28 ...  0  0  0]\n",
      " ...\n",
      " [ 0  0  0 ... 34  0  0]\n",
      " [ 0  0  0 ...  0 41  0]\n",
      " [ 0  0  0 ...  0  0 31]]\n",
      "==========================================================\n",
      "RandomForest Accuracy        : 1.0\n",
      "RandomForest Precision       : 1.0\n",
      "RandomForest Recall          : 1.0\n",
      "RandomForest F1 Score        : 1.0\n",
      "RandomForest Confusion Matrix:\n",
      "[[40  0  0 ...  0  0  0]\n",
      " [ 0 43  0 ...  0  0  0]\n",
      " [ 0  0 28 ...  0  0  0]\n",
      " ...\n",
      " [ 0  0  0 ... 34  0  0]\n",
      " [ 0  0  0 ...  0 41  0]\n",
      " [ 0  0  0 ...  0  0 31]]\n",
      "==========================================================\n",
      "GradientBoosting Accuracy        : 1.0\n",
      "GradientBoosting Precision       : 1.0\n",
      "GradientBoosting Recall          : 1.0\n",
      "GradientBoosting F1 Score        : 1.0\n",
      "GradientBoosting Confusion Matrix:\n",
      "[[40  0  0 ...  0  0  0]\n",
      " [ 0 43  0 ...  0  0  0]\n",
      " [ 0  0 28 ...  0  0  0]\n",
      " ...\n",
      " [ 0  0  0 ... 34  0  0]\n",
      " [ 0  0  0 ...  0 41  0]\n",
      " [ 0  0  0 ...  0  0 31]]\n",
      "==========================================================\n",
      "KNeighbors Accuracy        : 1.0\n",
      "KNeighbors Precision       : 1.0\n",
      "KNeighbors Recall          : 1.0\n",
      "KNeighbors F1 Score        : 1.0\n",
      "KNeighbors Confusion Matrix:\n",
      "[[40  0  0 ...  0  0  0]\n",
      " [ 0 43  0 ...  0  0  0]\n",
      " [ 0  0 28 ...  0  0  0]\n",
      " ...\n",
      " [ 0  0  0 ... 34  0  0]\n",
      " [ 0  0  0 ...  0 41  0]\n",
      " [ 0  0  0 ...  0  0 31]]\n",
      "==========================================================\n"
     ]
    }
   ],
   "source": [
    "for model_name, model in models.items():\n",
    "    \n",
    "    # Train the model\n",
    "    model.fit(X_train, y_train)\n",
    "\n",
    "    # Test the model\n",
    "    predictions = model.predict(X_test)\n",
    "\n",
    "    # Calculate accuracy score of Models\n",
    "    accuracy = accuracy_score(y_test, predictions)\n",
    "    print(f\"{model_name} Accuracy        : {accuracy}\")\n",
    "    \n",
    "     # Calculate precision score of Models\n",
    "    precision = precision_score(y_test, predictions, average='weighted', zero_division=0)\n",
    "    print(f\"{model_name} Precision       : {precision}\")\n",
    "    \n",
    "    # Calculate recall score of Models\n",
    "    recall = recall_score(y_test, predictions, average='weighted', zero_division=0)\n",
    "    print(f\"{model_name} Recall          : {recall}\")\n",
    "    \n",
    "    # Calculate f1 score of Models\n",
    "    f1 = f1_score(y_test, predictions, average='weighted', zero_division=0)\n",
    "    print(f\"{model_name} F1 Score        : {f1}\")\n",
    "    \n",
    "    # Calculate f1 score of Models\n",
    "    cm = confusion_matrix(y_test, predictions)\n",
    "    print(f\"{model_name} Confusion Matrix:\\n{cm}\")\n",
    "    print(\"==========================================================\")"
   ]
  },
  {
   "cell_type": "code",
   "execution_count": null,
   "id": "2868a496-7b6f-4f3b-851e-168324eddb79",
   "metadata": {},
   "outputs": [],
   "source": []
  },
  {
   "cell_type": "markdown",
   "id": "d160b3f0-6f52-4015-ab5d-1a082e1075de",
   "metadata": {},
   "source": [
    "## Prediction Model"
   ]
  },
  {
   "cell_type": "code",
   "execution_count": 37,
   "id": "29742696-81e4-4e0f-a9c1-021d89782037",
   "metadata": {},
   "outputs": [],
   "source": [
    "svc = RandomForestClassifier(n_estimators=100, random_state=42)\n",
    "svc.fit(X_train,y_train)\n",
    "ypred = svc.predict(X_test)"
   ]
  },
  {
   "cell_type": "code",
   "execution_count": 38,
   "id": "ed5e54b7-fd48-46a2-a005-fbf0b4ae548f",
   "metadata": {},
   "outputs": [],
   "source": [
    "# Save predection Model\n",
    "import pickle\n",
    "pickle.dump(svc,open(\"C:/Users/AMAN/Desktop/Final/svc.pkl\",'wb'))"
   ]
  },
  {
   "cell_type": "code",
   "execution_count": 39,
   "id": "a24758e4-3794-450d-8762-76dc2132e465",
   "metadata": {},
   "outputs": [],
   "source": [
    "# Load predection Model\n",
    "svc = pickle.load(open(\"C:/Users/AMAN/Desktop/Final/svc.pkl\",'rb'))"
   ]
  },
  {
   "cell_type": "markdown",
   "id": "a1136365-6c52-419d-abd7-07273b2146f0",
   "metadata": {},
   "source": [
    "## Information About Diet Dataset"
   ]
  },
  {
   "cell_type": "code",
   "execution_count": 41,
   "id": "4af18ab3-8492-49e1-851e-35709eccac16",
   "metadata": {},
   "outputs": [
    {
     "data": {
      "text/html": [
       "<div>\n",
       "<style scoped>\n",
       "    .dataframe tbody tr th:only-of-type {\n",
       "        vertical-align: middle;\n",
       "    }\n",
       "\n",
       "    .dataframe tbody tr th {\n",
       "        vertical-align: top;\n",
       "    }\n",
       "\n",
       "    .dataframe thead th {\n",
       "        text-align: right;\n",
       "    }\n",
       "</style>\n",
       "<table border=\"1\" class=\"dataframe\">\n",
       "  <thead>\n",
       "    <tr style=\"text-align: right;\">\n",
       "      <th></th>\n",
       "      <th>Disease</th>\n",
       "      <th>Diet</th>\n",
       "    </tr>\n",
       "  </thead>\n",
       "  <tbody>\n",
       "    <tr>\n",
       "      <th>0</th>\n",
       "      <td>Fungal infection</td>\n",
       "      <td>['Antifungal Diet', 'Probiotics', 'Garlic', 'C...</td>\n",
       "    </tr>\n",
       "    <tr>\n",
       "      <th>1</th>\n",
       "      <td>Allergy</td>\n",
       "      <td>['Elimination Diet', 'Omega-3-rich foods', 'Vi...</td>\n",
       "    </tr>\n",
       "    <tr>\n",
       "      <th>2</th>\n",
       "      <td>GERD</td>\n",
       "      <td>['Low-Acid Diet', 'Fiber-rich foods', 'Ginger'...</td>\n",
       "    </tr>\n",
       "    <tr>\n",
       "      <th>3</th>\n",
       "      <td>Chronic cholestasis</td>\n",
       "      <td>['Low-Fat Diet', 'High-Fiber Diet', 'Lean prot...</td>\n",
       "    </tr>\n",
       "    <tr>\n",
       "      <th>4</th>\n",
       "      <td>Drug Reaction</td>\n",
       "      <td>['Antihistamine Diet', 'Omega-3-rich foods', '...</td>\n",
       "    </tr>\n",
       "    <tr>\n",
       "      <th>5</th>\n",
       "      <td>Peptic ulcer disease</td>\n",
       "      <td>['Low-Acid Diet', 'Fiber-rich foods', 'Ginger'...</td>\n",
       "    </tr>\n",
       "    <tr>\n",
       "      <th>6</th>\n",
       "      <td>AIDS</td>\n",
       "      <td>['Balanced Diet', 'Protein-rich foods', 'Fruit...</td>\n",
       "    </tr>\n",
       "    <tr>\n",
       "      <th>7</th>\n",
       "      <td>Diabetes</td>\n",
       "      <td>['Low-Glycemic Diet', 'Fiber-rich foods', 'Lea...</td>\n",
       "    </tr>\n",
       "    <tr>\n",
       "      <th>8</th>\n",
       "      <td>Gastroenteritis</td>\n",
       "      <td>['Bland Diet', 'Bananas', 'Rice', 'Applesauce'...</td>\n",
       "    </tr>\n",
       "    <tr>\n",
       "      <th>9</th>\n",
       "      <td>Bronchial Asthma</td>\n",
       "      <td>['Anti-Inflammatory Diet', 'Omega-3-rich foods...</td>\n",
       "    </tr>\n",
       "  </tbody>\n",
       "</table>\n",
       "</div>"
      ],
      "text/plain": [
       "                Disease                                               Diet\n",
       "0      Fungal infection  ['Antifungal Diet', 'Probiotics', 'Garlic', 'C...\n",
       "1               Allergy  ['Elimination Diet', 'Omega-3-rich foods', 'Vi...\n",
       "2                  GERD  ['Low-Acid Diet', 'Fiber-rich foods', 'Ginger'...\n",
       "3   Chronic cholestasis  ['Low-Fat Diet', 'High-Fiber Diet', 'Lean prot...\n",
       "4         Drug Reaction  ['Antihistamine Diet', 'Omega-3-rich foods', '...\n",
       "5  Peptic ulcer disease  ['Low-Acid Diet', 'Fiber-rich foods', 'Ginger'...\n",
       "6                  AIDS  ['Balanced Diet', 'Protein-rich foods', 'Fruit...\n",
       "7              Diabetes  ['Low-Glycemic Diet', 'Fiber-rich foods', 'Lea...\n",
       "8       Gastroenteritis  ['Bland Diet', 'Bananas', 'Rice', 'Applesauce'...\n",
       "9      Bronchial Asthma  ['Anti-Inflammatory Diet', 'Omega-3-rich foods..."
      ]
     },
     "execution_count": 41,
     "metadata": {},
     "output_type": "execute_result"
    }
   ],
   "source": [
    "diets = pd.read_csv(\"C:/Users/AMAN/Desktop/dataset/diets.csv\")\n",
    "diets.head(10)"
   ]
  },
  {
   "cell_type": "code",
   "execution_count": 42,
   "id": "51ae5034-734e-449d-92b8-689819dcae4e",
   "metadata": {},
   "outputs": [
    {
     "data": {
      "text/plain": [
       "Index(['Disease', 'Diet'], dtype='object')"
      ]
     },
     "execution_count": 42,
     "metadata": {},
     "output_type": "execute_result"
    }
   ],
   "source": [
    "diets.columns"
   ]
  },
  {
   "cell_type": "code",
   "execution_count": 43,
   "id": "20a12e10-acc2-4c23-ad5e-ba7a48b16673",
   "metadata": {},
   "outputs": [
    {
     "name": "stdout",
     "output_type": "stream",
     "text": [
      "<class 'pandas.core.frame.DataFrame'>\n",
      "RangeIndex: 41 entries, 0 to 40\n",
      "Data columns (total 2 columns):\n",
      " #   Column   Non-Null Count  Dtype \n",
      "---  ------   --------------  ----- \n",
      " 0   Disease  41 non-null     object\n",
      " 1   Diet     41 non-null     object\n",
      "dtypes: object(2)\n",
      "memory usage: 788.0+ bytes\n"
     ]
    }
   ],
   "source": [
    "diets.info()"
   ]
  },
  {
   "cell_type": "code",
   "execution_count": 44,
   "id": "08358f58-e2a2-46c8-b2f1-b962d13ae8ad",
   "metadata": {},
   "outputs": [
    {
     "data": {
      "text/plain": [
       "82"
      ]
     },
     "execution_count": 44,
     "metadata": {},
     "output_type": "execute_result"
    }
   ],
   "source": [
    "diets.size"
   ]
  },
  {
   "cell_type": "code",
   "execution_count": 45,
   "id": "02b7d3f1-af07-480b-b39b-2877ff78b579",
   "metadata": {},
   "outputs": [
    {
     "data": {
      "text/plain": [
       "(41, 2)"
      ]
     },
     "execution_count": 45,
     "metadata": {},
     "output_type": "execute_result"
    }
   ],
   "source": [
    "diets.shape"
   ]
  },
  {
   "cell_type": "code",
   "execution_count": 46,
   "id": "4b30f1e0-cb0d-41b4-a6b9-05c8ce65b15a",
   "metadata": {},
   "outputs": [
    {
     "data": {
      "text/plain": [
       "Disease    41\n",
       "Diet       41\n",
       "dtype: int64"
      ]
     },
     "execution_count": 46,
     "metadata": {},
     "output_type": "execute_result"
    }
   ],
   "source": [
    "diets.count()"
   ]
  },
  {
   "cell_type": "markdown",
   "id": "9b3690b8-2a3d-4aaa-8bf3-af05a5e21be3",
   "metadata": {},
   "source": [
    "## 10 most common diet recommendations"
   ]
  },
  {
   "cell_type": "code",
   "execution_count": 48,
   "id": "7286f038-9da6-481e-b6b1-402ca7807cc6",
   "metadata": {},
   "outputs": [
    {
     "name": "stderr",
     "output_type": "stream",
     "text": [
      "C:\\Users\\AMAN\\anaconda3\\Lib\\site-packages\\seaborn\\_oldcore.py:1765: FutureWarning: unique with argument that is not not a Series, Index, ExtensionArray, or np.ndarray is deprecated and will raise in a future version.\n",
      "  order = pd.unique(vector)\n"
     ]
    },
    {
     "data": {
      "image/png": "[encoded data removed]",
      "text/plain": [
       "<Figure size 1000x500 with 1 Axes>"
      ]
     },
     "metadata": {},
     "output_type": "display_data"
    },
    {
     "name": "stdout",
     "output_type": "stream",
     "text": [
      "               Disease                                               Diet\n",
      "0     Fungal infection  ['Antifungal Diet', 'Probiotics', 'Garlic', 'C...\n",
      "1              Allergy  ['Elimination Diet', 'Omega-3-rich foods', 'Vi...\n",
      "2                 GERD  ['Low-Acid Diet', 'Fiber-rich foods', 'Ginger'...\n",
      "3  Chronic cholestasis  ['Low-Fat Diet', 'High-Fiber Diet', 'Lean prot...\n",
      "4        Drug Reaction  ['Antihistamine Diet', 'Omega-3-rich foods', '...\n"
     ]
    }
   ],
   "source": [
    "diet = diets.copy()\n",
    "\n",
    "# Flatten the list of diets to get their frequencies\n",
    "from collections import Counter\n",
    "all_diets = [diet for sublist in diets['Diet'] for diet in sublist]\n",
    "diet_freq = Counter(all_diets)\n",
    "\n",
    "# Plot the top 10 most common diet recommendations\n",
    "import seaborn as sns\n",
    "import matplotlib.pyplot as plt\n",
    "plt.figure(figsize=(10, 5))\n",
    "top_diets = diet_freq.most_common(10)\n",
    "sns.barplot(x=[x[1] for x in top_diets], y=[x[0] for x in top_diets])\n",
    "plt.title('Top 10 Most Common Diet Recommendations')\n",
    "plt.xlabel('Frequency')\n",
    "plt.ylabel('Diet Type')\n",
    "plt.tight_layout()\n",
    "plt.show()\n",
    "\n",
    "print(diets.head())"
   ]
  },
  {
   "cell_type": "code",
   "execution_count": null,
   "id": "4ad05c78-79be-42e5-8771-630a8b824c5f",
   "metadata": {},
   "outputs": [],
   "source": []
  },
  {
   "cell_type": "markdown",
   "id": "b8f47735-6e1a-4203-bdc0-70f27dc528e9",
   "metadata": {},
   "source": [
    "## Information About Workout Dataset"
   ]
  },
  {
   "cell_type": "code",
   "execution_count": 50,
   "id": "cb357aa1-1d4b-4581-8afd-7ca4a47ddde1",
   "metadata": {},
   "outputs": [
    {
     "data": {
      "text/html": [
       "<div>\n",
       "<style scoped>\n",
       "    .dataframe tbody tr th:only-of-type {\n",
       "        vertical-align: middle;\n",
       "    }\n",
       "\n",
       "    .dataframe tbody tr th {\n",
       "        vertical-align: top;\n",
       "    }\n",
       "\n",
       "    .dataframe thead th {\n",
       "        text-align: right;\n",
       "    }\n",
       "</style>\n",
       "<table border=\"1\" class=\"dataframe\">\n",
       "  <thead>\n",
       "    <tr style=\"text-align: right;\">\n",
       "      <th></th>\n",
       "      <th>Unnamed: 0.1</th>\n",
       "      <th>Unnamed: 0</th>\n",
       "      <th>disease</th>\n",
       "      <th>workout</th>\n",
       "    </tr>\n",
       "  </thead>\n",
       "  <tbody>\n",
       "    <tr>\n",
       "      <th>0</th>\n",
       "      <td>0</td>\n",
       "      <td>0</td>\n",
       "      <td>Fungal infection</td>\n",
       "      <td>Avoid sugary foods</td>\n",
       "    </tr>\n",
       "    <tr>\n",
       "      <th>1</th>\n",
       "      <td>1</td>\n",
       "      <td>1</td>\n",
       "      <td>Fungal infection</td>\n",
       "      <td>Consume probiotics</td>\n",
       "    </tr>\n",
       "    <tr>\n",
       "      <th>2</th>\n",
       "      <td>2</td>\n",
       "      <td>2</td>\n",
       "      <td>Fungal infection</td>\n",
       "      <td>Increase intake of garlic</td>\n",
       "    </tr>\n",
       "    <tr>\n",
       "      <th>3</th>\n",
       "      <td>3</td>\n",
       "      <td>3</td>\n",
       "      <td>Fungal infection</td>\n",
       "      <td>Include yogurt in diet</td>\n",
       "    </tr>\n",
       "    <tr>\n",
       "      <th>4</th>\n",
       "      <td>4</td>\n",
       "      <td>4</td>\n",
       "      <td>Fungal infection</td>\n",
       "      <td>Limit processed foods</td>\n",
       "    </tr>\n",
       "    <tr>\n",
       "      <th>5</th>\n",
       "      <td>5</td>\n",
       "      <td>5</td>\n",
       "      <td>Fungal infection</td>\n",
       "      <td>Stay hydrated</td>\n",
       "    </tr>\n",
       "    <tr>\n",
       "      <th>6</th>\n",
       "      <td>6</td>\n",
       "      <td>6</td>\n",
       "      <td>Fungal infection</td>\n",
       "      <td>Consume green tea</td>\n",
       "    </tr>\n",
       "    <tr>\n",
       "      <th>7</th>\n",
       "      <td>7</td>\n",
       "      <td>7</td>\n",
       "      <td>Fungal infection</td>\n",
       "      <td>Eat foods rich in zinc</td>\n",
       "    </tr>\n",
       "    <tr>\n",
       "      <th>8</th>\n",
       "      <td>8</td>\n",
       "      <td>8</td>\n",
       "      <td>Fungal infection</td>\n",
       "      <td>Include turmeric in diet</td>\n",
       "    </tr>\n",
       "    <tr>\n",
       "      <th>9</th>\n",
       "      <td>9</td>\n",
       "      <td>9</td>\n",
       "      <td>Fungal infection</td>\n",
       "      <td>Eat fruits and vegetables</td>\n",
       "    </tr>\n",
       "  </tbody>\n",
       "</table>\n",
       "</div>"
      ],
      "text/plain": [
       "   Unnamed: 0.1  Unnamed: 0           disease                    workout\n",
       "0             0           0  Fungal infection         Avoid sugary foods\n",
       "1             1           1  Fungal infection         Consume probiotics\n",
       "2             2           2  Fungal infection  Increase intake of garlic\n",
       "3             3           3  Fungal infection     Include yogurt in diet\n",
       "4             4           4  Fungal infection      Limit processed foods\n",
       "5             5           5  Fungal infection              Stay hydrated\n",
       "6             6           6  Fungal infection          Consume green tea\n",
       "7             7           7  Fungal infection     Eat foods rich in zinc\n",
       "8             8           8  Fungal infection   Include turmeric in diet\n",
       "9             9           9  Fungal infection  Eat fruits and vegetables"
      ]
     },
     "execution_count": 50,
     "metadata": {},
     "output_type": "execute_result"
    }
   ],
   "source": [
    "workout = pd.read_csv(\"C:/Users/AMAN/Desktop/dataset/workout_df.csv\")\n",
    "workout.head(10)"
   ]
  },
  {
   "cell_type": "code",
   "execution_count": 51,
   "id": "cd9a26f0-a0e6-4cd6-bb99-b552c0b170a2",
   "metadata": {},
   "outputs": [
    {
     "data": {
      "text/plain": [
       "Index(['Unnamed: 0.1', 'Unnamed: 0', 'disease', 'workout'], dtype='object')"
      ]
     },
     "execution_count": 51,
     "metadata": {},
     "output_type": "execute_result"
    }
   ],
   "source": [
    "workout.columns"
   ]
  },
  {
   "cell_type": "code",
   "execution_count": 52,
   "id": "5cfa815a-2da1-4343-916d-8092856caf6b",
   "metadata": {},
   "outputs": [
    {
     "name": "stdout",
     "output_type": "stream",
     "text": [
      "<class 'pandas.core.frame.DataFrame'>\n",
      "RangeIndex: 410 entries, 0 to 409\n",
      "Data columns (total 4 columns):\n",
      " #   Column        Non-Null Count  Dtype \n",
      "---  ------        --------------  ----- \n",
      " 0   Unnamed: 0.1  410 non-null    int64 \n",
      " 1   Unnamed: 0    410 non-null    int64 \n",
      " 2   disease       410 non-null    object\n",
      " 3   workout       410 non-null    object\n",
      "dtypes: int64(2), object(2)\n",
      "memory usage: 12.9+ KB\n"
     ]
    }
   ],
   "source": [
    "workout.info()"
   ]
  },
  {
   "cell_type": "code",
   "execution_count": 53,
   "id": "dc59fde2-343f-4fea-89e2-a61a41def0a4",
   "metadata": {},
   "outputs": [
    {
     "data": {
      "text/plain": [
       "1640"
      ]
     },
     "execution_count": 53,
     "metadata": {},
     "output_type": "execute_result"
    }
   ],
   "source": [
    "workout.size"
   ]
  },
  {
   "cell_type": "code",
   "execution_count": 54,
   "id": "6607241f-8ecf-4214-ba09-f4a0229cafc5",
   "metadata": {},
   "outputs": [
    {
     "data": {
      "text/plain": [
       "(410, 4)"
      ]
     },
     "execution_count": 54,
     "metadata": {},
     "output_type": "execute_result"
    }
   ],
   "source": [
    "workout.shape"
   ]
  },
  {
   "cell_type": "code",
   "execution_count": 55,
   "id": "2f07c3b5-9a26-4b87-98cd-94a50cb18f15",
   "metadata": {},
   "outputs": [
    {
     "data": {
      "text/plain": [
       "Unnamed: 0.1    410\n",
       "Unnamed: 0      410\n",
       "disease         410\n",
       "workout         410\n",
       "dtype: int64"
      ]
     },
     "execution_count": 55,
     "metadata": {},
     "output_type": "execute_result"
    }
   ],
   "source": [
    "workout.count()"
   ]
  },
  {
   "cell_type": "code",
   "execution_count": null,
   "id": "16d7340f-ca88-43cc-8b08-c336fb0adea9",
   "metadata": {},
   "outputs": [],
   "source": []
  },
  {
   "cell_type": "markdown",
   "id": "f9fdb875-e709-468c-86c6-906c6c7351fd",
   "metadata": {},
   "source": [
    "## Information About Precaution Dataset"
   ]
  },
  {
   "cell_type": "code",
   "execution_count": 57,
   "id": "9b8049ff-7737-4c07-91c6-103279216919",
   "metadata": {},
   "outputs": [
    {
     "data": {
      "text/html": [
       "<div>\n",
       "<style scoped>\n",
       "    .dataframe tbody tr th:only-of-type {\n",
       "        vertical-align: middle;\n",
       "    }\n",
       "\n",
       "    .dataframe tbody tr th {\n",
       "        vertical-align: top;\n",
       "    }\n",
       "\n",
       "    .dataframe thead th {\n",
       "        text-align: right;\n",
       "    }\n",
       "</style>\n",
       "<table border=\"1\" class=\"dataframe\">\n",
       "  <thead>\n",
       "    <tr style=\"text-align: right;\">\n",
       "      <th></th>\n",
       "      <th>Unnamed: 0</th>\n",
       "      <th>Disease</th>\n",
       "      <th>Precaution_1</th>\n",
       "      <th>Precaution_2</th>\n",
       "      <th>Precaution_3</th>\n",
       "      <th>Precaution_4</th>\n",
       "    </tr>\n",
       "  </thead>\n",
       "  <tbody>\n",
       "    <tr>\n",
       "      <th>0</th>\n",
       "      <td>0</td>\n",
       "      <td>Drug Reaction</td>\n",
       "      <td>stop irritation</td>\n",
       "      <td>consult nearest hospital</td>\n",
       "      <td>stop taking drug</td>\n",
       "      <td>follow up</td>\n",
       "    </tr>\n",
       "    <tr>\n",
       "      <th>1</th>\n",
       "      <td>1</td>\n",
       "      <td>Malaria</td>\n",
       "      <td>Consult nearest hospital</td>\n",
       "      <td>avoid oily food</td>\n",
       "      <td>avoid non veg food</td>\n",
       "      <td>keep mosquitos out</td>\n",
       "    </tr>\n",
       "    <tr>\n",
       "      <th>2</th>\n",
       "      <td>2</td>\n",
       "      <td>Allergy</td>\n",
       "      <td>apply calamine</td>\n",
       "      <td>cover area with bandage</td>\n",
       "      <td>NaN</td>\n",
       "      <td>use ice to compress itching</td>\n",
       "    </tr>\n",
       "    <tr>\n",
       "      <th>3</th>\n",
       "      <td>3</td>\n",
       "      <td>Hypothyroidism</td>\n",
       "      <td>reduce stress</td>\n",
       "      <td>exercise</td>\n",
       "      <td>eat healthy</td>\n",
       "      <td>get proper sleep</td>\n",
       "    </tr>\n",
       "    <tr>\n",
       "      <th>4</th>\n",
       "      <td>4</td>\n",
       "      <td>Psoriasis</td>\n",
       "      <td>wash hands with warm soapy water</td>\n",
       "      <td>stop bleeding using pressure</td>\n",
       "      <td>consult doctor</td>\n",
       "      <td>salt baths</td>\n",
       "    </tr>\n",
       "    <tr>\n",
       "      <th>5</th>\n",
       "      <td>5</td>\n",
       "      <td>GERD</td>\n",
       "      <td>avoid fatty spicy food</td>\n",
       "      <td>avoid lying down after eating</td>\n",
       "      <td>maintain healthy weight</td>\n",
       "      <td>exercise</td>\n",
       "    </tr>\n",
       "    <tr>\n",
       "      <th>6</th>\n",
       "      <td>6</td>\n",
       "      <td>Chronic cholestasis</td>\n",
       "      <td>cold baths</td>\n",
       "      <td>anti itch medicine</td>\n",
       "      <td>consult doctor</td>\n",
       "      <td>eat healthy</td>\n",
       "    </tr>\n",
       "    <tr>\n",
       "      <th>7</th>\n",
       "      <td>7</td>\n",
       "      <td>hepatitis A</td>\n",
       "      <td>Consult nearest hospital</td>\n",
       "      <td>wash hands through</td>\n",
       "      <td>avoid fatty spicy food</td>\n",
       "      <td>medication</td>\n",
       "    </tr>\n",
       "    <tr>\n",
       "      <th>8</th>\n",
       "      <td>8</td>\n",
       "      <td>Osteoarthristis</td>\n",
       "      <td>acetaminophen</td>\n",
       "      <td>consult nearest hospital</td>\n",
       "      <td>follow up</td>\n",
       "      <td>salt baths</td>\n",
       "    </tr>\n",
       "    <tr>\n",
       "      <th>9</th>\n",
       "      <td>9</td>\n",
       "      <td>(vertigo) Paroymsal  Positional Vertigo</td>\n",
       "      <td>lie down</td>\n",
       "      <td>avoid sudden change in body</td>\n",
       "      <td>avoid abrupt head movment</td>\n",
       "      <td>relax</td>\n",
       "    </tr>\n",
       "  </tbody>\n",
       "</table>\n",
       "</div>"
      ],
      "text/plain": [
       "   Unnamed: 0                                  Disease  \\\n",
       "0           0                            Drug Reaction   \n",
       "1           1                                  Malaria   \n",
       "2           2                                  Allergy   \n",
       "3           3                           Hypothyroidism   \n",
       "4           4                                Psoriasis   \n",
       "5           5                                     GERD   \n",
       "6           6                      Chronic cholestasis   \n",
       "7           7                              hepatitis A   \n",
       "8           8                          Osteoarthristis   \n",
       "9           9  (vertigo) Paroymsal  Positional Vertigo   \n",
       "\n",
       "                       Precaution_1                   Precaution_2  \\\n",
       "0                   stop irritation       consult nearest hospital   \n",
       "1          Consult nearest hospital                avoid oily food   \n",
       "2                    apply calamine        cover area with bandage   \n",
       "3                     reduce stress                       exercise   \n",
       "4  wash hands with warm soapy water   stop bleeding using pressure   \n",
       "5            avoid fatty spicy food  avoid lying down after eating   \n",
       "6                        cold baths             anti itch medicine   \n",
       "7          Consult nearest hospital             wash hands through   \n",
       "8                     acetaminophen       consult nearest hospital   \n",
       "9                          lie down    avoid sudden change in body   \n",
       "\n",
       "                Precaution_3                 Precaution_4  \n",
       "0           stop taking drug                    follow up  \n",
       "1         avoid non veg food           keep mosquitos out  \n",
       "2                        NaN  use ice to compress itching  \n",
       "3                eat healthy             get proper sleep  \n",
       "4             consult doctor                   salt baths  \n",
       "5    maintain healthy weight                     exercise  \n",
       "6             consult doctor                  eat healthy  \n",
       "7     avoid fatty spicy food                   medication  \n",
       "8                  follow up                   salt baths  \n",
       "9  avoid abrupt head movment                        relax  "
      ]
     },
     "execution_count": 57,
     "metadata": {},
     "output_type": "execute_result"
    }
   ],
   "source": [
    "precaution = pd.read_csv(\"C:/Users/AMAN/Desktop/dataset/precautions_df.csv\")\n",
    "precaution.head(10)"
   ]
  },
  {
   "cell_type": "code",
   "execution_count": 58,
   "id": "efc9252b-009b-4839-8a89-8f2768eabff2",
   "metadata": {},
   "outputs": [
    {
     "data": {
      "text/plain": [
       "Index(['Unnamed: 0', 'Disease', 'Precaution_1', 'Precaution_2', 'Precaution_3',\n",
       "       'Precaution_4'],\n",
       "      dtype='object')"
      ]
     },
     "execution_count": 58,
     "metadata": {},
     "output_type": "execute_result"
    }
   ],
   "source": [
    "precaution.columns"
   ]
  },
  {
   "cell_type": "code",
   "execution_count": 59,
   "id": "92c6f476-69f9-4c58-8ccf-19eb4b0da12c",
   "metadata": {},
   "outputs": [
    {
     "name": "stdout",
     "output_type": "stream",
     "text": [
      "<class 'pandas.core.frame.DataFrame'>\n",
      "RangeIndex: 41 entries, 0 to 40\n",
      "Data columns (total 6 columns):\n",
      " #   Column        Non-Null Count  Dtype \n",
      "---  ------        --------------  ----- \n",
      " 0   Unnamed: 0    41 non-null     int64 \n",
      " 1   Disease       41 non-null     object\n",
      " 2   Precaution_1  41 non-null     object\n",
      " 3   Precaution_2  41 non-null     object\n",
      " 4   Precaution_3  40 non-null     object\n",
      " 5   Precaution_4  40 non-null     object\n",
      "dtypes: int64(1), object(5)\n",
      "memory usage: 2.1+ KB\n"
     ]
    }
   ],
   "source": [
    "precaution.info()"
   ]
  },
  {
   "cell_type": "code",
   "execution_count": 60,
   "id": "562b4cb2-bc83-4cad-9da9-45ebc310daff",
   "metadata": {},
   "outputs": [
    {
     "data": {
      "text/plain": [
       "246"
      ]
     },
     "execution_count": 60,
     "metadata": {},
     "output_type": "execute_result"
    }
   ],
   "source": [
    "precaution.size"
   ]
  },
  {
   "cell_type": "code",
   "execution_count": 61,
   "id": "fd592e95-8763-46c5-b99c-e786721d5feb",
   "metadata": {},
   "outputs": [
    {
     "data": {
      "text/plain": [
       "(41, 6)"
      ]
     },
     "execution_count": 61,
     "metadata": {},
     "output_type": "execute_result"
    }
   ],
   "source": [
    "precaution.shape"
   ]
  },
  {
   "cell_type": "code",
   "execution_count": 62,
   "id": "a7947730-0fd5-4fdb-854a-7a5c7e42c54f",
   "metadata": {},
   "outputs": [
    {
     "data": {
      "text/plain": [
       "Unnamed: 0      41\n",
       "Disease         41\n",
       "Precaution_1    41\n",
       "Precaution_2    41\n",
       "Precaution_3    40\n",
       "Precaution_4    40\n",
       "dtype: int64"
      ]
     },
     "execution_count": 62,
     "metadata": {},
     "output_type": "execute_result"
    }
   ],
   "source": [
    "precaution.count()"
   ]
  },
  {
   "cell_type": "markdown",
   "id": "af563ff2-c1ad-417f-aad3-0a7dba626c1a",
   "metadata": {},
   "source": [
    "## top 10 most common precautions"
   ]
  },
  {
   "cell_type": "code",
   "execution_count": 64,
   "id": "776768a8-c35e-4a9c-8748-fbdd636be792",
   "metadata": {},
   "outputs": [
    {
     "data": {
      "image/png": "[encoded data removed]",
      "text/plain": [
       "<Figure size 1000x500 with 1 Axes>"
      ]
     },
     "metadata": {},
     "output_type": "display_data"
    },
    {
     "name": "stdout",
     "output_type": "stream",
     "text": [
      "Number of unique diseases: 41\n",
      "Top 10 most common precautions:\n"
     ]
    },
    {
     "data": {
      "text/plain": [
       "consult doctor            15\n",
       "medication                10\n",
       "follow up                  7\n",
       "eat healthy                7\n",
       "exercise                   6\n",
       "avoid fatty spicy food     6\n",
       "rest                       4\n",
       "reduce stress              3\n",
       "massage                    3\n",
       "drink plenty of water      3\n",
       "Name: count, dtype: int64"
      ]
     },
     "execution_count": 64,
     "metadata": {},
     "output_type": "execute_result"
    }
   ],
   "source": [
    "# Count the number of unique diseases\n",
    "num_diseases = precaution['Disease'].nunique()\n",
    "\n",
    "# Count the most common precautions\n",
    "precautions = pd.concat([\n",
    "    precaution['Precaution_1'],\n",
    "    precaution['Precaution_2'],\n",
    "    precaution['Precaution_3'],\n",
    "    precaution['Precaution_4']\n",
    "])\n",
    "precaution_counts = precautions.value_counts(dropna=True).head(10)\n",
    "\n",
    "plt.figure(figsize=(10,5))\n",
    "sns.barplot(x=precaution_counts.values, y=precaution_counts.index, palette='viridis')\n",
    "plt.title('Top 10 Most Common Precautions')\n",
    "plt.xlabel('Count')\n",
    "plt.ylabel('Precaution')\n",
    "plt.tight_layout()\n",
    "plt.show()\n",
    "\n",
    "print('Number of unique diseases:', num_diseases)\n",
    "print('Top 10 most common precautions:')\n",
    "precaution_counts"
   ]
  },
  {
   "cell_type": "code",
   "execution_count": null,
   "id": "f601051e-9622-429c-bd31-7c32ceed5266",
   "metadata": {},
   "outputs": [],
   "source": []
  },
  {
   "cell_type": "markdown",
   "id": "e255679c-3f5b-4680-8e58-39fdbcf7d6ed",
   "metadata": {},
   "source": [
    "## Information About Description Dataset"
   ]
  },
  {
   "cell_type": "code",
   "execution_count": 66,
   "id": "50172a87-d6a3-47ce-af6c-67fb5b444126",
   "metadata": {},
   "outputs": [
    {
     "data": {
      "text/html": [
       "<div>\n",
       "<style scoped>\n",
       "    .dataframe tbody tr th:only-of-type {\n",
       "        vertical-align: middle;\n",
       "    }\n",
       "\n",
       "    .dataframe tbody tr th {\n",
       "        vertical-align: top;\n",
       "    }\n",
       "\n",
       "    .dataframe thead th {\n",
       "        text-align: right;\n",
       "    }\n",
       "</style>\n",
       "<table border=\"1\" class=\"dataframe\">\n",
       "  <thead>\n",
       "    <tr style=\"text-align: right;\">\n",
       "      <th></th>\n",
       "      <th>Disease</th>\n",
       "      <th>Description</th>\n",
       "    </tr>\n",
       "  </thead>\n",
       "  <tbody>\n",
       "    <tr>\n",
       "      <th>0</th>\n",
       "      <td>Fungal infection</td>\n",
       "      <td>Fungal infection is a common skin condition ca...</td>\n",
       "    </tr>\n",
       "    <tr>\n",
       "      <th>1</th>\n",
       "      <td>Allergy</td>\n",
       "      <td>Allergy is an immune system reaction to a subs...</td>\n",
       "    </tr>\n",
       "    <tr>\n",
       "      <th>2</th>\n",
       "      <td>GERD</td>\n",
       "      <td>GERD (Gastroesophageal Reflux Disease) is a di...</td>\n",
       "    </tr>\n",
       "    <tr>\n",
       "      <th>3</th>\n",
       "      <td>Chronic cholestasis</td>\n",
       "      <td>Chronic cholestasis is a condition where bile ...</td>\n",
       "    </tr>\n",
       "    <tr>\n",
       "      <th>4</th>\n",
       "      <td>Drug Reaction</td>\n",
       "      <td>Drug Reaction occurs when the body reacts adve...</td>\n",
       "    </tr>\n",
       "    <tr>\n",
       "      <th>5</th>\n",
       "      <td>Peptic ulcer disease</td>\n",
       "      <td>Peptic ulcer disease involves sores that devel...</td>\n",
       "    </tr>\n",
       "    <tr>\n",
       "      <th>6</th>\n",
       "      <td>AIDS</td>\n",
       "      <td>AIDS (Acquired Immunodeficiency Syndrome) is a...</td>\n",
       "    </tr>\n",
       "    <tr>\n",
       "      <th>7</th>\n",
       "      <td>Diabetes</td>\n",
       "      <td>Diabetes is a chronic condition that affects h...</td>\n",
       "    </tr>\n",
       "    <tr>\n",
       "      <th>8</th>\n",
       "      <td>Gastroenteritis</td>\n",
       "      <td>Gastroenteritis is an inflammation of the stom...</td>\n",
       "    </tr>\n",
       "    <tr>\n",
       "      <th>9</th>\n",
       "      <td>Bronchial Asthma</td>\n",
       "      <td>Bronchial Asthma is a respiratory condition ch...</td>\n",
       "    </tr>\n",
       "  </tbody>\n",
       "</table>\n",
       "</div>"
      ],
      "text/plain": [
       "                Disease                                        Description\n",
       "0      Fungal infection  Fungal infection is a common skin condition ca...\n",
       "1               Allergy  Allergy is an immune system reaction to a subs...\n",
       "2                  GERD  GERD (Gastroesophageal Reflux Disease) is a di...\n",
       "3   Chronic cholestasis  Chronic cholestasis is a condition where bile ...\n",
       "4         Drug Reaction  Drug Reaction occurs when the body reacts adve...\n",
       "5  Peptic ulcer disease  Peptic ulcer disease involves sores that devel...\n",
       "6                  AIDS  AIDS (Acquired Immunodeficiency Syndrome) is a...\n",
       "7              Diabetes  Diabetes is a chronic condition that affects h...\n",
       "8       Gastroenteritis  Gastroenteritis is an inflammation of the stom...\n",
       "9      Bronchial Asthma  Bronchial Asthma is a respiratory condition ch..."
      ]
     },
     "execution_count": 66,
     "metadata": {},
     "output_type": "execute_result"
    }
   ],
   "source": [
    "description = pd.read_csv(\"C:/Users/AMAN/Desktop/dataset/description.csv\")\n",
    "description.head(10)"
   ]
  },
  {
   "cell_type": "code",
   "execution_count": 67,
   "id": "2ecc24e4-0d08-467c-bc56-e2257af4db27",
   "metadata": {},
   "outputs": [
    {
     "data": {
      "text/plain": [
       "Index(['Disease', 'Description'], dtype='object')"
      ]
     },
     "execution_count": 67,
     "metadata": {},
     "output_type": "execute_result"
    }
   ],
   "source": [
    "description.columns"
   ]
  },
  {
   "cell_type": "code",
   "execution_count": 68,
   "id": "bc26a344-ed36-4c51-882f-d074f6b4835c",
   "metadata": {},
   "outputs": [
    {
     "name": "stdout",
     "output_type": "stream",
     "text": [
      "<class 'pandas.core.frame.DataFrame'>\n",
      "RangeIndex: 41 entries, 0 to 40\n",
      "Data columns (total 2 columns):\n",
      " #   Column       Non-Null Count  Dtype \n",
      "---  ------       --------------  ----- \n",
      " 0   Disease      41 non-null     object\n",
      " 1   Description  41 non-null     object\n",
      "dtypes: object(2)\n",
      "memory usage: 788.0+ bytes\n"
     ]
    }
   ],
   "source": [
    "description.info()"
   ]
  },
  {
   "cell_type": "code",
   "execution_count": 69,
   "id": "b222ed96-4df9-4068-af42-2186870542d1",
   "metadata": {},
   "outputs": [
    {
     "data": {
      "text/plain": [
       "82"
      ]
     },
     "execution_count": 69,
     "metadata": {},
     "output_type": "execute_result"
    }
   ],
   "source": [
    "description.size"
   ]
  },
  {
   "cell_type": "code",
   "execution_count": 70,
   "id": "897db715-f2f2-4f30-9965-a2e4a94560a3",
   "metadata": {},
   "outputs": [
    {
     "data": {
      "text/plain": [
       "(41, 2)"
      ]
     },
     "execution_count": 70,
     "metadata": {},
     "output_type": "execute_result"
    }
   ],
   "source": [
    "description.shape"
   ]
  },
  {
   "cell_type": "code",
   "execution_count": 71,
   "id": "f20aec39-1825-4d50-a99c-6cb16ecc7d0d",
   "metadata": {},
   "outputs": [
    {
     "data": {
      "text/plain": [
       "Disease        41\n",
       "Description    41\n",
       "dtype: int64"
      ]
     },
     "execution_count": 71,
     "metadata": {},
     "output_type": "execute_result"
    }
   ],
   "source": [
    "description.count()"
   ]
  },
  {
   "cell_type": "code",
   "execution_count": null,
   "id": "a4b8e64e-5859-4b0a-9d49-f9d13421015a",
   "metadata": {},
   "outputs": [],
   "source": []
  },
  {
   "cell_type": "markdown",
   "id": "42661989-6dbb-4cc9-9e9d-164f0e087ad4",
   "metadata": {},
   "source": [
    "## Information About Medication Dataset"
   ]
  },
  {
   "cell_type": "code",
   "execution_count": 73,
   "id": "e2fb3083-77d5-481d-9b7a-25775a8e8779",
   "metadata": {},
   "outputs": [
    {
     "data": {
      "text/html": [
       "<div>\n",
       "<style scoped>\n",
       "    .dataframe tbody tr th:only-of-type {\n",
       "        vertical-align: middle;\n",
       "    }\n",
       "\n",
       "    .dataframe tbody tr th {\n",
       "        vertical-align: top;\n",
       "    }\n",
       "\n",
       "    .dataframe thead th {\n",
       "        text-align: right;\n",
       "    }\n",
       "</style>\n",
       "<table border=\"1\" class=\"dataframe\">\n",
       "  <thead>\n",
       "    <tr style=\"text-align: right;\">\n",
       "      <th></th>\n",
       "      <th>Disease</th>\n",
       "      <th>Medication</th>\n",
       "    </tr>\n",
       "  </thead>\n",
       "  <tbody>\n",
       "    <tr>\n",
       "      <th>0</th>\n",
       "      <td>Fungal infection</td>\n",
       "      <td>['Antifungal Cream', 'Fluconazole', 'Terbinafi...</td>\n",
       "    </tr>\n",
       "    <tr>\n",
       "      <th>1</th>\n",
       "      <td>Allergy</td>\n",
       "      <td>['Antihistamines', 'Decongestants', 'Epinephri...</td>\n",
       "    </tr>\n",
       "    <tr>\n",
       "      <th>2</th>\n",
       "      <td>GERD</td>\n",
       "      <td>['Proton Pump Inhibitors (PPIs)', 'H2 Blockers...</td>\n",
       "    </tr>\n",
       "    <tr>\n",
       "      <th>3</th>\n",
       "      <td>Chronic cholestasis</td>\n",
       "      <td>['Ursodeoxycholic acid', 'Cholestyramine', 'Me...</td>\n",
       "    </tr>\n",
       "    <tr>\n",
       "      <th>4</th>\n",
       "      <td>Drug Reaction</td>\n",
       "      <td>['Antihistamines', 'Epinephrine', 'Corticoster...</td>\n",
       "    </tr>\n",
       "    <tr>\n",
       "      <th>5</th>\n",
       "      <td>Peptic ulcer disease</td>\n",
       "      <td>['Antibiotics', 'Proton Pump Inhibitors (PPIs)...</td>\n",
       "    </tr>\n",
       "    <tr>\n",
       "      <th>6</th>\n",
       "      <td>AIDS</td>\n",
       "      <td>['Antiretroviral drugs', 'Protease inhibitors'...</td>\n",
       "    </tr>\n",
       "    <tr>\n",
       "      <th>7</th>\n",
       "      <td>Diabetes</td>\n",
       "      <td>['Insulin', 'Metformin', 'Sulfonylureas', 'DPP...</td>\n",
       "    </tr>\n",
       "    <tr>\n",
       "      <th>8</th>\n",
       "      <td>Gastroenteritis</td>\n",
       "      <td>['Antibiotics', 'Antiemetic drugs', 'Antidiarr...</td>\n",
       "    </tr>\n",
       "    <tr>\n",
       "      <th>9</th>\n",
       "      <td>Bronchial Asthma</td>\n",
       "      <td>['Bronchodilators', 'Inhaled corticosteroids',...</td>\n",
       "    </tr>\n",
       "  </tbody>\n",
       "</table>\n",
       "</div>"
      ],
      "text/plain": [
       "                Disease                                         Medication\n",
       "0      Fungal infection  ['Antifungal Cream', 'Fluconazole', 'Terbinafi...\n",
       "1               Allergy  ['Antihistamines', 'Decongestants', 'Epinephri...\n",
       "2                  GERD  ['Proton Pump Inhibitors (PPIs)', 'H2 Blockers...\n",
       "3   Chronic cholestasis  ['Ursodeoxycholic acid', 'Cholestyramine', 'Me...\n",
       "4         Drug Reaction  ['Antihistamines', 'Epinephrine', 'Corticoster...\n",
       "5  Peptic ulcer disease  ['Antibiotics', 'Proton Pump Inhibitors (PPIs)...\n",
       "6                  AIDS  ['Antiretroviral drugs', 'Protease inhibitors'...\n",
       "7              Diabetes  ['Insulin', 'Metformin', 'Sulfonylureas', 'DPP...\n",
       "8       Gastroenteritis  ['Antibiotics', 'Antiemetic drugs', 'Antidiarr...\n",
       "9      Bronchial Asthma  ['Bronchodilators', 'Inhaled corticosteroids',..."
      ]
     },
     "execution_count": 73,
     "metadata": {},
     "output_type": "execute_result"
    }
   ],
   "source": [
    "medications = pd.read_csv(\"C:/Users/AMAN/Desktop/dataset/medications.csv\")\n",
    "medications.head(10)"
   ]
  },
  {
   "cell_type": "code",
   "execution_count": 74,
   "id": "40213aa1-4d56-4348-a96d-eb929f0b85af",
   "metadata": {},
   "outputs": [
    {
     "data": {
      "text/plain": [
       "Index(['Disease', 'Medication'], dtype='object')"
      ]
     },
     "execution_count": 74,
     "metadata": {},
     "output_type": "execute_result"
    }
   ],
   "source": [
    "medications.columns"
   ]
  },
  {
   "cell_type": "code",
   "execution_count": 75,
   "id": "e9f6d028-85c3-40bf-b260-bc1d7253080b",
   "metadata": {},
   "outputs": [
    {
     "name": "stdout",
     "output_type": "stream",
     "text": [
      "<class 'pandas.core.frame.DataFrame'>\n",
      "RangeIndex: 41 entries, 0 to 40\n",
      "Data columns (total 2 columns):\n",
      " #   Column      Non-Null Count  Dtype \n",
      "---  ------      --------------  ----- \n",
      " 0   Disease     41 non-null     object\n",
      " 1   Medication  41 non-null     object\n",
      "dtypes: object(2)\n",
      "memory usage: 788.0+ bytes\n"
     ]
    }
   ],
   "source": [
    "medications.info()"
   ]
  },
  {
   "cell_type": "code",
   "execution_count": 76,
   "id": "cb9338e8-3c7a-432f-b8bb-92b5d3e16c3f",
   "metadata": {},
   "outputs": [
    {
     "data": {
      "text/plain": [
       "(41, 2)"
      ]
     },
     "execution_count": 76,
     "metadata": {},
     "output_type": "execute_result"
    }
   ],
   "source": [
    "medications.shape"
   ]
  },
  {
   "cell_type": "code",
   "execution_count": 77,
   "id": "70823753-67eb-45c1-81bc-9cb65b37b60d",
   "metadata": {},
   "outputs": [
    {
     "data": {
      "text/plain": [
       "82"
      ]
     },
     "execution_count": 77,
     "metadata": {},
     "output_type": "execute_result"
    }
   ],
   "source": [
    "medications.size"
   ]
  },
  {
   "cell_type": "code",
   "execution_count": 78,
   "id": "031ca3c5-9949-4aec-8329-23b055ddf342",
   "metadata": {},
   "outputs": [
    {
     "data": {
      "text/plain": [
       "Disease       41\n",
       "Medication    41\n",
       "dtype: int64"
      ]
     },
     "execution_count": 78,
     "metadata": {},
     "output_type": "execute_result"
    }
   ],
   "source": [
    "medications.count()"
   ]
  },
  {
   "cell_type": "code",
   "execution_count": null,
   "id": "72aba4fb-daa2-4f90-a7a0-cc14f361b023",
   "metadata": {},
   "outputs": [],
   "source": []
  },
  {
   "cell_type": "markdown",
   "id": "ca4054cd-fcef-49d5-b1d3-d57e954b88f1",
   "metadata": {},
   "source": [
    "## Information About Symtoms Dataset"
   ]
  },
  {
   "cell_type": "code",
   "execution_count": 80,
   "id": "16438e80-e037-4c4a-a54f-be6c585e8484",
   "metadata": {},
   "outputs": [
    {
     "data": {
      "text/html": [
       "<div>\n",
       "<style scoped>\n",
       "    .dataframe tbody tr th:only-of-type {\n",
       "        vertical-align: middle;\n",
       "    }\n",
       "\n",
       "    .dataframe tbody tr th {\n",
       "        vertical-align: top;\n",
       "    }\n",
       "\n",
       "    .dataframe thead th {\n",
       "        text-align: right;\n",
       "    }\n",
       "</style>\n",
       "<table border=\"1\" class=\"dataframe\">\n",
       "  <thead>\n",
       "    <tr style=\"text-align: right;\">\n",
       "      <th></th>\n",
       "      <th>Unnamed: 0</th>\n",
       "      <th>Disease</th>\n",
       "      <th>Symptom_1</th>\n",
       "      <th>Symptom_2</th>\n",
       "      <th>Symptom_3</th>\n",
       "      <th>Symptom_4</th>\n",
       "    </tr>\n",
       "  </thead>\n",
       "  <tbody>\n",
       "    <tr>\n",
       "      <th>0</th>\n",
       "      <td>0</td>\n",
       "      <td>Fungal infection</td>\n",
       "      <td>itching</td>\n",
       "      <td>skin_rash</td>\n",
       "      <td>nodal_skin_eruptions</td>\n",
       "      <td>dischromic _patches</td>\n",
       "    </tr>\n",
       "    <tr>\n",
       "      <th>1</th>\n",
       "      <td>1</td>\n",
       "      <td>Fungal infection</td>\n",
       "      <td>skin_rash</td>\n",
       "      <td>nodal_skin_eruptions</td>\n",
       "      <td>dischromic _patches</td>\n",
       "      <td>NaN</td>\n",
       "    </tr>\n",
       "    <tr>\n",
       "      <th>2</th>\n",
       "      <td>2</td>\n",
       "      <td>Fungal infection</td>\n",
       "      <td>itching</td>\n",
       "      <td>nodal_skin_eruptions</td>\n",
       "      <td>dischromic _patches</td>\n",
       "      <td>NaN</td>\n",
       "    </tr>\n",
       "    <tr>\n",
       "      <th>3</th>\n",
       "      <td>3</td>\n",
       "      <td>Fungal infection</td>\n",
       "      <td>itching</td>\n",
       "      <td>skin_rash</td>\n",
       "      <td>dischromic _patches</td>\n",
       "      <td>NaN</td>\n",
       "    </tr>\n",
       "    <tr>\n",
       "      <th>4</th>\n",
       "      <td>4</td>\n",
       "      <td>Fungal infection</td>\n",
       "      <td>itching</td>\n",
       "      <td>skin_rash</td>\n",
       "      <td>nodal_skin_eruptions</td>\n",
       "      <td>NaN</td>\n",
       "    </tr>\n",
       "    <tr>\n",
       "      <th>5</th>\n",
       "      <td>5</td>\n",
       "      <td>Fungal infection</td>\n",
       "      <td>skin_rash</td>\n",
       "      <td>nodal_skin_eruptions</td>\n",
       "      <td>dischromic _patches</td>\n",
       "      <td>NaN</td>\n",
       "    </tr>\n",
       "    <tr>\n",
       "      <th>6</th>\n",
       "      <td>6</td>\n",
       "      <td>Fungal infection</td>\n",
       "      <td>itching</td>\n",
       "      <td>nodal_skin_eruptions</td>\n",
       "      <td>dischromic _patches</td>\n",
       "      <td>NaN</td>\n",
       "    </tr>\n",
       "    <tr>\n",
       "      <th>7</th>\n",
       "      <td>7</td>\n",
       "      <td>Fungal infection</td>\n",
       "      <td>itching</td>\n",
       "      <td>skin_rash</td>\n",
       "      <td>dischromic _patches</td>\n",
       "      <td>NaN</td>\n",
       "    </tr>\n",
       "    <tr>\n",
       "      <th>8</th>\n",
       "      <td>8</td>\n",
       "      <td>Fungal infection</td>\n",
       "      <td>itching</td>\n",
       "      <td>skin_rash</td>\n",
       "      <td>nodal_skin_eruptions</td>\n",
       "      <td>NaN</td>\n",
       "    </tr>\n",
       "    <tr>\n",
       "      <th>9</th>\n",
       "      <td>9</td>\n",
       "      <td>Fungal infection</td>\n",
       "      <td>itching</td>\n",
       "      <td>skin_rash</td>\n",
       "      <td>nodal_skin_eruptions</td>\n",
       "      <td>dischromic _patches</td>\n",
       "    </tr>\n",
       "  </tbody>\n",
       "</table>\n",
       "</div>"
      ],
      "text/plain": [
       "   Unnamed: 0           Disease   Symptom_1              Symptom_2  \\\n",
       "0           0  Fungal infection     itching              skin_rash   \n",
       "1           1  Fungal infection   skin_rash   nodal_skin_eruptions   \n",
       "2           2  Fungal infection     itching   nodal_skin_eruptions   \n",
       "3           3  Fungal infection     itching              skin_rash   \n",
       "4           4  Fungal infection     itching              skin_rash   \n",
       "5           5  Fungal infection   skin_rash   nodal_skin_eruptions   \n",
       "6           6  Fungal infection     itching   nodal_skin_eruptions   \n",
       "7           7  Fungal infection     itching              skin_rash   \n",
       "8           8  Fungal infection     itching              skin_rash   \n",
       "9           9  Fungal infection     itching              skin_rash   \n",
       "\n",
       "               Symptom_3             Symptom_4  \n",
       "0   nodal_skin_eruptions   dischromic _patches  \n",
       "1    dischromic _patches                   NaN  \n",
       "2    dischromic _patches                   NaN  \n",
       "3    dischromic _patches                   NaN  \n",
       "4   nodal_skin_eruptions                   NaN  \n",
       "5    dischromic _patches                   NaN  \n",
       "6    dischromic _patches                   NaN  \n",
       "7    dischromic _patches                   NaN  \n",
       "8   nodal_skin_eruptions                   NaN  \n",
       "9   nodal_skin_eruptions   dischromic _patches  "
      ]
     },
     "execution_count": 80,
     "metadata": {},
     "output_type": "execute_result"
    }
   ],
   "source": [
    "symtoms = pd.read_csv(\"C:/Users/AMAN/Desktop/dataset/symtoms_df.csv\")\n",
    "symtoms.head(10)"
   ]
  },
  {
   "cell_type": "code",
   "execution_count": 81,
   "id": "864610a7-fa94-400c-ad58-40a698de76e9",
   "metadata": {},
   "outputs": [
    {
     "data": {
      "text/plain": [
       "Index(['Unnamed: 0', 'Disease', 'Symptom_1', 'Symptom_2', 'Symptom_3',\n",
       "       'Symptom_4'],\n",
       "      dtype='object')"
      ]
     },
     "execution_count": 81,
     "metadata": {},
     "output_type": "execute_result"
    }
   ],
   "source": [
    "symtoms.columns"
   ]
  },
  {
   "cell_type": "code",
   "execution_count": 82,
   "id": "43f04f0a-ab46-4e19-9f63-405547036771",
   "metadata": {},
   "outputs": [
    {
     "name": "stdout",
     "output_type": "stream",
     "text": [
      "<class 'pandas.core.frame.DataFrame'>\n",
      "RangeIndex: 4920 entries, 0 to 4919\n",
      "Data columns (total 6 columns):\n",
      " #   Column      Non-Null Count  Dtype \n",
      "---  ------      --------------  ----- \n",
      " 0   Unnamed: 0  4920 non-null   int64 \n",
      " 1   Disease     4920 non-null   object\n",
      " 2   Symptom_1   4920 non-null   object\n",
      " 3   Symptom_2   4920 non-null   object\n",
      " 4   Symptom_3   4920 non-null   object\n",
      " 5   Symptom_4   4572 non-null   object\n",
      "dtypes: int64(1), object(5)\n",
      "memory usage: 230.8+ KB\n"
     ]
    }
   ],
   "source": [
    "symtoms.info()"
   ]
  },
  {
   "cell_type": "code",
   "execution_count": 83,
   "id": "2c8394c1-53ca-42c5-9d77-fd2ea3523d91",
   "metadata": {},
   "outputs": [
    {
     "data": {
      "text/plain": [
       "29520"
      ]
     },
     "execution_count": 83,
     "metadata": {},
     "output_type": "execute_result"
    }
   ],
   "source": [
    "symtoms.size"
   ]
  },
  {
   "cell_type": "code",
   "execution_count": 84,
   "id": "be75fa1d-5b05-49d2-95fe-bf1f19fc1314",
   "metadata": {},
   "outputs": [
    {
     "data": {
      "text/plain": [
       "(4920, 6)"
      ]
     },
     "execution_count": 84,
     "metadata": {},
     "output_type": "execute_result"
    }
   ],
   "source": [
    "symtoms.shape"
   ]
  },
  {
   "cell_type": "code",
   "execution_count": 85,
   "id": "56c8f507-27bc-4b6a-8f11-967bf46962ce",
   "metadata": {},
   "outputs": [
    {
     "data": {
      "text/plain": [
       "Unnamed: 0    4920\n",
       "Disease       4920\n",
       "Symptom_1     4920\n",
       "Symptom_2     4920\n",
       "Symptom_3     4920\n",
       "Symptom_4     4572\n",
       "dtype: int64"
      ]
     },
     "execution_count": 85,
     "metadata": {},
     "output_type": "execute_result"
    }
   ],
   "source": [
    "symtoms.count()"
   ]
  },
  {
   "cell_type": "code",
   "execution_count": null,
   "id": "510c8d06-3c45-470e-88f3-bbbd7b6463fe",
   "metadata": {},
   "outputs": [],
   "source": []
  },
  {
   "cell_type": "markdown",
   "id": "d4f88d0c-18b9-48f2-bebe-a137ab27b6e1",
   "metadata": {},
   "source": [
    "## Helper Function"
   ]
  },
  {
   "cell_type": "code",
   "execution_count": 87,
   "id": "3be2e572-1d88-45a0-aef0-792790969472",
   "metadata": {},
   "outputs": [],
   "source": [
    "def helper(dis):\n",
    "    desc = description[description['Disease'] == predicted_disease]['Description']\n",
    "    desc = \" \".join([w for w in desc])\n",
    "\n",
    "    pre = precaution[precaution['Disease'] == dis][['Precaution_1', 'Precaution_2', 'Precaution_3', 'Precaution_4']]\n",
    "    pre = [col for col in pre.values]\n",
    "\n",
    "    med = medications[medications['Disease'] == dis]['Medication']\n",
    "    med = [med for med in med.values]\n",
    "\n",
    "    die = diets[diets['Disease'] == dis]['Diet']\n",
    "    die = [die for die in die.values]\n",
    "\n",
    "    wrkout = workout[workout['disease'] == dis] ['workout']\n",
    "\n",
    "\n",
    "    return desc,pre,med,die,wrkout"
   ]
  },
  {
   "cell_type": "markdown",
   "id": "052c8939-8df5-4b6c-9803-0490c73ab851",
   "metadata": {},
   "source": [
    "## Symptoms Dictionary"
   ]
  },
  {
   "cell_type": "code",
   "execution_count": 89,
   "id": "fd5be9f9-4d67-4d22-b9e7-d82ea2c38755",
   "metadata": {},
   "outputs": [],
   "source": [
    "symptoms_dict = {'itching': 0, 'skin_rash': 1, 'nodal_skin_eruptions': 2, 'continuous_sneezing': 3, 'shivering': 4, \n",
    "                 'chills': 5, 'joint_pain': 6, 'stomach_pain': 7, 'acidity': 8, 'ulcers_on_tongue': 9, 'muscle_wasting': 10,\n",
    "                 'vomiting': 11, 'burning_micturition': 12, 'spotting_ urination': 13, 'fatigue': 14, 'weight_gain': 15, \n",
    "                 'anxiety': 16, 'cold_hands_and_feets': 17, 'mood_swings': 18, 'weight_loss': 19, 'restlessness': 20, \n",
    "                 'lethargy': 21, 'patches_in_throat': 22, 'irregular_sugar_level': 23, 'cough': 24, 'high_fever': 25, \n",
    "                 'sunken_eyes': 26, 'breathlessness': 27, 'sweating': 28, 'dehydration': 29, 'indigestion': 30, 'headache': 31, \n",
    "                 'yellowish_skin': 32, 'dark_urine': 33, 'nausea': 34, 'loss_of_appetite': 35, 'pain_behind_the_eyes': 36,\n",
    "                 'back_pain': 37, 'constipation': 38, 'abdominal_pain': 39, 'diarrhoea': 40, 'mild_fever': 41, 'yellow_urine': 42,\n",
    "                 'yellowing_of_eyes': 43, 'acute_liver_failure': 44, 'fluid_overload': 45, 'swelling_of_stomach': 46,\n",
    "                 'swelled_lymph_nodes': 47, 'malaise': 48, 'blurred_and_distorted_vision': 49, 'phlegm': 50, 'throat_irritation': 51,\n",
    "                 'redness_of_eyes': 52, 'sinus_pressure': 53, 'runny_nose': 54, 'congestion': 55, 'chest_pain': 56, \n",
    "                 'weakness_in_limbs': 57, 'fast_heart_rate': 58, 'pain_during_bowel_movements': 59, 'pain_in_anal_region': 60,\n",
    "                 'bloody_stool': 61, 'irritation_in_anus': 62, 'neck_pain': 63, 'dizziness': 64, 'cramps': 65, 'bruising': 66,\n",
    "                 'obesity': 67, 'swollen_legs': 68, 'swollen_blood_vessels': 69, 'puffy_face_and_eyes': 70, 'enlarged_thyroid': 71,\n",
    "                 'brittle_nails': 72, 'swollen_extremeties': 73, 'excessive_hunger': 74, 'extra_marital_contacts': 75, \n",
    "                 'drying_and_tingling_lips': 76, 'slurred_speech': 77, 'knee_pain': 78, 'hip_joint_pain': 79, 'muscle_weakness': 80,\n",
    "                 'stiff_neck': 81, 'swelling_joints': 82, 'movement_stiffness': 83, 'spinning_movements': 84, 'loss_of_balance': 85, \n",
    "                 'unsteadiness': 86, 'weakness_of_one_body_side': 87, 'loss_of_smell': 88, 'bladder_discomfort': 89, 'foul_smell_of urine': 90,\n",
    "                 'continuous_feel_of_urine': 91, 'passage_of_gases': 92, 'internal_itching': 93, 'toxic_look_(typhos)': 94,\n",
    "                 'depression': 95, 'irritability': 96, 'muscle_pain': 97, 'altered_sensorium': 98, 'red_spots_over_body': 99, \n",
    "                 'belly_pain': 100, 'abnormal_menstruation': 101, 'dischromic _patches': 102, 'watering_from_eyes': 103, \n",
    "                 'increased_appetite': 104, 'polyuria': 105, 'family_history': 106, 'mucoid_sputum': 107, 'rusty_sputum': 108, \n",
    "                 'lack_of_concentration': 109, 'visual_disturbances': 110, 'receiving_blood_transfusion': 111, 'receiving_unsterile_injections': 112,\n",
    "                 'coma': 113, 'stomach_bleeding': 114, 'distention_of_abdomen': 115, 'history_of_alcohol_consumption': 116,\n",
    "                 'fluid_overload.1': 117, 'blood_in_sputum': 118, 'prominent_veins_on_calf': 119, 'palpitations': 120, \n",
    "                 'painful_walking': 121, 'pus_filled_pimples': 122, 'blackheads': 123, 'scurring': 124, 'skin_peeling': 125,\n",
    "                 'silver_like_dusting': 126, 'small_dents_in_nails': 127, 'inflammatory_nails': 128, 'blister': 129, \n",
    "                 'red_sore_around_nose': 130, 'yellow_crust_ooze': 131}"
   ]
  },
  {
   "cell_type": "markdown",
   "id": "1ba10f9f-fb75-4cbe-8048-c55d6d9d8ee8",
   "metadata": {},
   "source": [
    "## List of Diseases"
   ]
  },
  {
   "cell_type": "code",
   "execution_count": 91,
   "id": "bd05043e-3830-41d8-b771-e3da9314304a",
   "metadata": {},
   "outputs": [],
   "source": [
    "diseases_list = {15: 'Fungal infection', 4: 'Allergy', 16: 'GERD', 9: 'Chronic cholestasis', 14: 'Drug Reaction', \n",
    "                 33: 'Peptic ulcer diseae', 1: 'AIDS', 12: 'Diabetes ', 17: 'Gastroenteritis', 6: 'Bronchial Asthma', \n",
    "                 23: 'Hypertension ', 30: 'Migraine', 7: 'Cervical spondylosis', 32: 'Paralysis (brain hemorrhage)',\n",
    "                 28: 'Jaundice', 29: 'Malaria', 8: 'Chicken pox', 11: 'Dengue', 37: 'Typhoid', 40: 'hepatitis A',\n",
    "                 19: 'Hepatitis B', 20: 'Hepatitis C', 21: 'Hepatitis D', 22: 'Hepatitis E', 3: 'Alcoholic hepatitis',\n",
    "                 36: 'Tuberculosis', 10: 'Common Cold', 34: 'Pneumonia', 13: 'Dimorphic hemmorhoids(piles)', 18: 'Heart attack',\n",
    "                 39: 'Varicose veins', 26: 'Hypothyroidism', 24: 'Hyperthyroidism', 25: 'Hypoglycemia', 31: 'Osteoarthristis', \n",
    "                 5: 'Arthritis', 0: '(vertigo) Paroymsal  Positional Vertigo', 2: 'Acne', 38: 'Urinary tract infection', \n",
    "                 35: 'Psoriasis', 27: 'Impetigo'}"
   ]
  },
  {
   "cell_type": "markdown",
   "id": "11e7eb8f-21c2-4695-b1a9-4565c006840a",
   "metadata": {},
   "source": [
    "## Prediction function"
   ]
  },
  {
   "cell_type": "code",
   "execution_count": 93,
   "id": "c217fbf4-d75d-47be-b998-d8936bed508d",
   "metadata": {},
   "outputs": [],
   "source": [
    "def get_predicted_value(patient_symptoms):\n",
    "    input_vector = np.zeros(len(symptoms_dict))\n",
    "    for item in patient_symptoms:\n",
    "        input_vector[symptoms_dict[item]] = 1\n",
    "    return diseases_list[svc.predict([input_vector])[0]]"
   ]
  },
  {
   "cell_type": "code",
   "execution_count": null,
   "id": "98102722-6851-4b7d-bf65-d45bed83e8f7",
   "metadata": {},
   "outputs": [],
   "source": []
  },
  {
   "cell_type": "markdown",
   "id": "1ff59a54-117e-4636-bf96-c6420ad2a687",
   "metadata": {},
   "source": [
    "## Final Testing 1"
   ]
  },
  {
   "cell_type": "code",
   "execution_count": 97,
   "id": "a4dc274b-c00a-4ddd-97e9-6b77f8bb3833",
   "metadata": {},
   "outputs": [
    {
     "name": "stdin",
     "output_type": "stream",
     "text": [
      "Enter your symptoms....... itching\n"
     ]
    },
    {
     "name": "stdout",
     "output_type": "stream",
     "text": [
      "=================predicted disease============\n",
      "Fungal infection\n",
      "=================description==================\n",
      "Fungal infection is a common skin condition caused by fungi.\n",
      "=================precautions==================\n",
      "1 :  bath twice\n",
      "2 :  use detol or neem in bathing water\n",
      "3 :  keep infected area dry\n",
      "4 :  use clean cloths\n",
      "=================medications==================\n",
      "5 :  ['Antifungal Cream', 'Fluconazole', 'Terbinafine', 'Clotrimazole', 'Ketoconazole']\n",
      "=================workout==================\n",
      "6 :  Avoid sugary foods\n",
      "7 :  Consume probiotics\n",
      "8 :  Increase intake of garlic\n",
      "9 :  Include yogurt in diet\n",
      "10 :  Limit processed foods\n",
      "11 :  Stay hydrated\n",
      "12 :  Consume green tea\n",
      "13 :  Eat foods rich in zinc\n",
      "14 :  Include turmeric in diet\n",
      "15 :  Eat fruits and vegetables\n",
      "=================diets==================\n",
      "16 :  ['Antifungal Diet', 'Probiotics', 'Garlic', 'Coconut oil', 'Turmeric']\n"
     ]
    }
   ],
   "source": [
    "symptoms = input(\"Enter your symptoms.......\")\n",
    "user_symptoms = [s.strip() for s in symptoms.split(',')]\n",
    "\n",
    "# Remove any extra characters, if any\n",
    "user_symptoms = [symptom.strip(\"[]' \") for symptom in user_symptoms]\n",
    "predicted_disease = get_predicted_value(user_symptoms)\n",
    "\n",
    "desc, pre, med, die, wrkout = helper(predicted_disease)\n",
    "\n",
    "print(\"=================predicted disease============\")\n",
    "print(predicted_disease)\n",
    "print(\"=================description==================\")\n",
    "print(desc)\n",
    "print(\"=================precautions==================\")\n",
    "i = 1\n",
    "for p_i in pre[0]:\n",
    "    print(i, \": \", p_i)\n",
    "    i += 1\n",
    "\n",
    "print(\"=================medications==================\")\n",
    "for m_i in med:\n",
    "    print(i, \": \", m_i)\n",
    "    i += 1\n",
    "\n",
    "print(\"=================workout==================\")\n",
    "for w_i in wrkout:\n",
    "    print(i, \": \", w_i)\n",
    "    i += 1\n",
    "\n",
    "print(\"=================diets==================\")\n",
    "for d_i in die:\n",
    "    print(i, \": \", d_i)\n",
    "    i += 1"
   ]
  },
  {
   "cell_type": "markdown",
   "id": "684118e7-6519-47d3-ada6-2edcec364bf0",
   "metadata": {},
   "source": [
    "## Final Testing 2"
   ]
  },
  {
   "cell_type": "code",
   "execution_count": 99,
   "id": "b4f20e23-dd48-4e49-a358-511ae026ccf1",
   "metadata": {},
   "outputs": [
    {
     "name": "stdin",
     "output_type": "stream",
     "text": [
      "Enter your symptoms....... back_pain\n"
     ]
    },
    {
     "name": "stdout",
     "output_type": "stream",
     "text": [
      "=================predicted disease============\n",
      "Cervical spondylosis\n",
      "=================description==================\n",
      "Cervical spondylosis is a degenerative condition of the cervical spine.\n",
      "=================precautions==================\n",
      "1 :  use heating pad or cold pack\n",
      "2 :  exercise\n",
      "3 :  take otc pain reliver\n",
      "4 :  consult doctor\n",
      "=================medications==================\n",
      "5 :  ['Pain relievers', 'Muscle relaxants', 'Physical therapy', 'Neck braces', 'Corticosteroids']\n",
      "=================workout==================\n",
      "6 :  Include anti-inflammatory foods\n",
      "7 :  Consume omega-3 fatty acids\n",
      "8 :  Include vitamin D-rich foods\n",
      "9 :  Stay hydrated\n",
      "10 :  Consume antioxidant-rich foods\n",
      "11 :  Limit processed foods\n",
      "12 :  Include lean proteins\n",
      "13 :  Practice good posture\n",
      "14 :  Consult a healthcare professional\n",
      "15 :  Engage in regular exercise\n",
      "=================diets==================\n",
      "16 :  ['Arthritis Diet', 'Anti-Inflammatory Diet', 'Omega-3-rich foods', 'Fruits and vegetables', 'Whole grains']\n"
     ]
    }
   ],
   "source": [
    "symptoms = input(\"Enter your symptoms.......\")\n",
    "user_symptoms = [s.strip() for s in symptoms.split(',')]\n",
    "\n",
    "# Remove any extra characters, if any\n",
    "user_symptoms = [symptom.strip(\"[]' \") for symptom in user_symptoms]\n",
    "predicted_disease = get_predicted_value(user_symptoms)\n",
    "\n",
    "desc, pre, med, die, wrkout = helper(predicted_disease)\n",
    "\n",
    "print(\"=================predicted disease============\")\n",
    "print(predicted_disease)\n",
    "print(\"=================description==================\")\n",
    "print(desc)\n",
    "print(\"=================precautions==================\")\n",
    "i = 1\n",
    "for p_i in pre[0]:\n",
    "    print(i, \": \", p_i)\n",
    "    i += 1\n",
    "\n",
    "print(\"=================medications==================\")\n",
    "for m_i in med:\n",
    "    print(i, \": \", m_i)\n",
    "    i += 1\n",
    "\n",
    "print(\"=================workout==================\")\n",
    "for w_i in wrkout:\n",
    "    print(i, \": \", w_i)\n",
    "    i += 1\n",
    "\n",
    "print(\"=================diets==================\")\n",
    "for d_i in die:\n",
    "    print(i, \": \", d_i)\n",
    "    i += 1"
   ]
  },
  {
   "cell_type": "markdown",
   "id": "68e162e8-dfd2-4ca5-b802-8dc9451f7885",
   "metadata": {},
   "source": [
    "## Final Testing 3"
   ]
  },
  {
   "cell_type": "code",
   "execution_count": 101,
   "id": "0f4e82f4-b5af-4e2e-96aa-da9e821d037a",
   "metadata": {},
   "outputs": [
    {
     "name": "stdin",
     "output_type": "stream",
     "text": [
      "Enter your symptoms....... blister\n"
     ]
    },
    {
     "name": "stdout",
     "output_type": "stream",
     "text": [
      "=================predicted disease============\n",
      "Impetigo\n",
      "=================description==================\n",
      "Impetigo is a highly contagious skin infection causing red sores that can break open.\n",
      "=================precautions==================\n",
      "1 :  soak affected area in warm water\n",
      "2 :  use antibiotics\n",
      "3 :  remove scabs with wet compressed cloth\n",
      "4 :  consult doctor\n",
      "=================medications==================\n",
      "5 :  ['Topical antibiotics', 'Oral antibiotics', 'Antiseptics', 'Ointments', 'Warm compresses']\n",
      "=================workout==================\n",
      "6 :  Maintain good hygiene\n",
      "7 :  Stay hydrated\n",
      "8 :  Consume nutrient-rich foods\n",
      "9 :  Limit sugary foods and beverages\n",
      "10 :  Include foods rich in vitamin C\n",
      "11 :  Consult a healthcare professional\n",
      "12 :  Follow medical recommendations\n",
      "13 :  Avoid scratching\n",
      "14 :  Take prescribed antibiotics\n",
      "15 :  Practice wound care\n",
      "=================diets==================\n",
      "16 :  ['Impetigo Diet', 'Antibiotic treatment', 'Fruits and vegetables', 'Hydration', 'Protein-rich foods']\n"
     ]
    }
   ],
   "source": [
    "symptoms = input(\"Enter your symptoms.......\")\n",
    "user_symptoms = [s.strip() for s in symptoms.split(',')]\n",
    "\n",
    "# Remove any extra characters, if any\n",
    "user_symptoms = [symptom.strip(\"[]' \") for symptom in user_symptoms]\n",
    "predicted_disease = get_predicted_value(user_symptoms)\n",
    "\n",
    "desc, pre, med, die, wrkout = helper(predicted_disease)\n",
    "\n",
    "print(\"=================predicted disease============\")\n",
    "print(predicted_disease)\n",
    "print(\"=================description==================\")\n",
    "print(desc)\n",
    "print(\"=================precautions==================\")\n",
    "i = 1\n",
    "for p_i in pre[0]:\n",
    "    print(i, \": \", p_i)\n",
    "    i += 1\n",
    "\n",
    "print(\"=================medications==================\")\n",
    "for m_i in med:\n",
    "    print(i, \": \", m_i)\n",
    "    i += 1\n",
    "\n",
    "print(\"=================workout==================\")\n",
    "for w_i in wrkout:\n",
    "    print(i, \": \", w_i)\n",
    "    i += 1\n",
    "\n",
    "print(\"=================diets==================\")\n",
    "for d_i in die:\n",
    "    print(i, \": \", d_i)\n",
    "    i += 1"
   ]
  },
  {
   "cell_type": "markdown",
   "id": "e056214b-e20c-4bde-990b-6ffc797b40af",
   "metadata": {},
   "source": [
    "## Mapping symptoms and disease"
   ]
  },
  {
   "cell_type": "code",
   "execution_count": 128,
   "id": "e45592fb-0670-4f4f-ab11-188780c93464",
   "metadata": {},
   "outputs": [],
   "source": [
    "import gradio as gr\n",
    "import numpy as np\n",
    "import pandas as pd\n",
    "import os\n",
    "import datetime \n",
    "import uuid\n",
    "from pymongo import MongoClient\n",
    "import bcrypt"
   ]
  },
  {
   "cell_type": "code",
   "execution_count": 130,
   "id": "1e8d94a9-08ca-4916-8dd9-2f7cd59d2832",
   "metadata": {},
   "outputs": [],
   "source": [
    "symptoms_dict = {symptom: idx for idx, symptom in enumerate(X.columns)}\n",
    "diseases_list = le.classes_"
   ]
  },
  {
   "cell_type": "markdown",
   "id": "8e19d63f-cfcd-459c-b9a2-40ca00d7b006",
   "metadata": {},
   "source": [
    "## Database Connection"
   ]
  },
  {
   "cell_type": "code",
   "execution_count": 132,
   "id": "f36e0133-a403-4263-9e26-90210f203590",
   "metadata": {},
   "outputs": [],
   "source": [
    "MONGO_URI = \"mongodb://localhost:27017/\"\n",
    "client = MongoClient(MONGO_URI)\n",
    "\n",
    "db = client[\"medico_ai\"]\n",
    "patients_collection = db[\"patients\"]\n",
    "users_collection = db[\"users\"]\n",
    "flagged_issues_collection = db[\"flagged_issues\"]\n",
    "collection = db[\"contact_messages\"]"
   ]
  },
  {
   "cell_type": "markdown",
   "id": "a376061b-c534-43f0-8824-c1fa08528357",
   "metadata": {},
   "source": [
    "## Function For count the metrics"
   ]
  },
  {
   "cell_type": "code",
   "execution_count": 134,
   "id": "358220f4-2d5d-4971-92ea-dbff656ce1a8",
   "metadata": {},
   "outputs": [],
   "source": [
    "def get_dashboard_metrics():\n",
    "    total_patients = patients_collection.count_documents({})\n",
    "    total_users = users_collection.count_documents({})\n",
    "    total_flags = flagged_issues_collection.count_documents({})\n",
    "\n",
    "    return f\"\"\"\n",
    "    **📊 Dashboard Metrics**\n",
    "\n",
    "    - 👥 Total Diagnosed Patients: {total_patients}\n",
    "    - 🧑‍💻 Total Registered Users: {total_users}\n",
    "    - 🚩 Total Flagged Issues: {total_flags}\n",
    "    \"\"\"\n",
    "    "
   ]
  },
  {
   "cell_type": "markdown",
   "id": "e28ecac0-5c41-4907-bf8e-05f8eafa481c",
   "metadata": {},
   "source": [
    "## User registration"
   ]
  },
  {
   "cell_type": "code",
   "execution_count": 137,
   "id": "8ccafb31-6fab-41d7-a208-5e254e94f383",
   "metadata": {},
   "outputs": [],
   "source": [
    "def hash_password(password):\n",
    "    return bcrypt.hashpw(password.encode('utf-8'), bcrypt.gensalt())\n",
    "\n",
    "def check_password(password, hashed):\n",
    "    return bcrypt.checkpw(password.encode('utf-8'), hashed)\n",
    "\n",
    "def register_user(username, password,email):\n",
    "    if users_collection.find_one({\"username\": username}):\n",
    "        return \"Username already exists.\"\n",
    "    hashed = hash_password(password)\n",
    "    users_collection.insert_one({\"username\": username,\"email\": email, \"password\": hashed})\n",
    "    return \"Registration successful.\"\n",
    "def register_interface(username, password, email):\n",
    "    username = username.strip()\n",
    "    password = password.strip()\n",
    "    email = email.strip()\n",
    "    if not username or not password or not email:\n",
    "        return \"❌ All fields are required.\"\n",
    "    return register_user(username, password, email)\n",
    "def authenticate_user(username, password,email):\n",
    "    user = users_collection.find_one({\"username\": username})\n",
    "    if user and check_password(password, user[\"password\"]):\n",
    "        return True\n",
    "    return False"
   ]
  },
  {
   "cell_type": "markdown",
   "id": "a9303fbb-0f23-4acb-ac68-9ee50d00a58f",
   "metadata": {},
   "source": [
    "## Function for disease predction"
   ]
  },
  {
   "cell_type": "code",
   "execution_count": 108,
   "id": "2061457c-c6a0-4056-b09e-07fe35408d8e",
   "metadata": {},
   "outputs": [],
   "source": [
    "def get_predicted_value(patient_symptoms):\n",
    "    input_vector = np.zeros(len(symptoms_dict))\n",
    "    for item in patient_symptoms:\n",
    "        if item in symptoms_dict:\n",
    "            input_vector[symptoms_dict[item]] = 1\n",
    "    return diseases_list[svc.predict([input_vector])[0]]"
   ]
  },
  {
   "cell_type": "markdown",
   "id": "4f0623bc-880c-4ac5-b0fb-0f450d318306",
   "metadata": {},
   "source": [
    "## Helper function to fetch data for a disease"
   ]
  },
  {
   "cell_type": "code",
   "execution_count": 139,
   "id": "ede5d1a4-ab80-4bc0-a3c0-0a0c12d5552a",
   "metadata": {},
   "outputs": [],
   "source": [
    "def helper(dis):\n",
    "    desc = description[description['Disease'] == dis]['Description']\n",
    "    desc = \" \".join([w for w in desc])\n",
    "    pre = precaution[precaution['Disease'] == dis][['Precaution_1', 'Precaution_2', 'Precaution_3', 'Precaution_4']]\n",
    "    pre = [col for col in pre.values]\n",
    "    med = medications[medications['Disease'] == dis]['Medication']\n",
    "    med = [med for med in med.values]\n",
    "    die = diets[diets['Disease'] == dis]['Diet']\n",
    "    die = [die for die in die.values]\n",
    "    wrkout = workout[workout['disease'] == dis]['workout']\n",
    "    wrkout = [wrk for wrk in wrkout.values]\n",
    "    return desc, pre, med, die, wrkout"
   ]
  },
  {
   "cell_type": "code",
   "execution_count": 141,
   "id": "29716dd1-e006-4926-b4f1-0736a167c86a",
   "metadata": {},
   "outputs": [],
   "source": [
    "disease_state = gr.State()\n",
    "patient_info_state = gr.State()"
   ]
  },
  {
   "cell_type": "markdown",
   "id": "1ad2585d-c90f-4c87-9e99-2aa30179ee0e",
   "metadata": {},
   "source": [
    "## Predict disease from symptoms string"
   ]
  },
  {
   "cell_type": "code",
   "execution_count": 143,
   "id": "f84a83bc-4220-4c3e-9890-f3cee2af0a90",
   "metadata": {},
   "outputs": [],
   "source": [
    "def predict_disease(name, gender, age, address, symptoms_str):\n",
    "    try:\n",
    "        patient_symptoms = [s.strip().lower() for s in symptoms_str.split(\",\")]\n",
    "        disease = get_predicted_value(patient_symptoms)\n",
    "        patient_id = str(uuid.uuid4())\n",
    "        patient_info = {\n",
    "            \"patient_id\": patient_id,\n",
    "            \"name\": name,\n",
    "            \"gender\": gender,\n",
    "            \"age\": age,\n",
    "            \"address\": address,\n",
    "            \"symptoms\": patient_symptoms,\n",
    "            \"disease\": disease\n",
    "        }\n",
    "        \n",
    "        patients_collection.insert_one(patient_info)\n",
    "        \n",
    "        return disease, disease, patient_info\n",
    "    except Exception as e:\n",
    "        return f\"Error: {str(e)}\", \"\", {}\n"
   ]
  },
  {
   "cell_type": "markdown",
   "id": "04412454-4373-42dc-b339-5cccb8c58cd6",
   "metadata": {},
   "source": [
    "## Individual Fetch Functions"
   ]
  },
  {
   "cell_type": "code",
   "execution_count": 146,
   "id": "92b7cdaf-ea07-4f7f-a6df-c55c76ffdf5d",
   "metadata": {},
   "outputs": [],
   "source": [
    "def get_description(disease):\n",
    "    return helper(disease)[0]\n",
    "\n",
    "def get_precautions(disease):\n",
    "    return \"\\n\".join(helper(disease)[1][0])\n",
    "\n",
    "def get_medications(disease):\n",
    "    return \"\\n\".join(helper(disease)[2])\n",
    "\n",
    "def get_diets(disease):\n",
    "    return \"\\n\".join(helper(disease)[3])\n",
    "\n",
    "def get_workouts(disease):\n",
    "    return \"\\n\".join(helper(disease)[4])\n",
    "\n",
    "\n",
    "def flag_case(disease, symptoms, issue):\n",
    "    # Get current date and time\n",
    "    now = datetime.datetime.now()\n",
    "    timestamp = now.strftime(\"%Y-%m-%d %H:%M:%S\")\n",
    "    \n",
    "    # Prepare the flag text\n",
    "    text = f\"\"\"🕒 Time: {timestamp}\n",
    "✅ Flag received for: {disease}\n",
    "🩺 Symptoms: {symptoms}\n",
    "⚠️ Issue: {issue}\n",
    "\n",
    "\"\"\"\n",
    "    # Save the flag to a text file\n",
    "    with open(\"flagged_issues.txt\", \"a\", encoding=\"utf-8\") as f:\n",
    "        f.write(text)\n",
    "        \n",
    "    flag_document = {\n",
    "            \"flag_id\": str(uuid.uuid4()),\n",
    "            \"disease\": disease,\n",
    "            \"symptoms\": symptoms,\n",
    "            \"issue\": issue,\n",
    "            \"timestamp\": now\n",
    "        }\n",
    "\n",
    "        # Insert the document into the flagged_issues collection\n",
    "    flagged_issues_collection.insert_one(flag_document)\n",
    "    \n",
    "    # Also return the acknowledgment for displaying in the app\n",
    "    return f\"✅ Flag submitted successfully for {disease}!\"\n",
    "    "
   ]
  },
  {
   "cell_type": "markdown",
   "id": "8b8c0620-1f2f-42e2-bd15-97e63ba11d52",
   "metadata": {},
   "source": [
    "## FAQ"
   ]
  },
  {
   "cell_type": "code",
   "execution_count": 124,
   "id": "8d6779ab-4de4-441e-9553-cd5c17b9b28c",
   "metadata": {},
   "outputs": [],
   "source": [
    "faq_data = [\n",
    "    (\"How do I create a new account?\", \"Navigate to the registration page, fill in your details, and click 'Register' to create your account.\"),\n",
    "    (\"Can I register using my social media accounts?\", \"Currently, registration is only available through email. Social media integration is planned for future updates.\"),\n",
    "    (\"Is my personal information secure?\", \"Yes, we prioritize your privacy and employ industry-standard security measures to protect your data.\"),\n",
    "    (\"How do I initiate a new diagnosis?\", \"Log in to your account, navigate to the 'Diagnosis' section, and follow the prompts to start a new session.\"),\n",
    "    (\"What information is required for a diagnosis?\", \"Provide details such as your symptoms, duration, and relevant medical history to assist in the diagnosis.\"),\n",
    "    (\"How long does the diagnosis take?\", \"The process typically takes a few minutes, depending on the complexity of the information provided.\"),\n",
    "    (\"Is the diagnosis provided accurate?\", \"Our system uses advanced algorithms to provide accurate diagnoses, but it's recommended to consult with a healthcare professional for confirmation.\"),\n",
    "    (\"How do I report a technical issue or bug?\", \"Use the 'Report Issue' form in the application to describe the issue you're experiencing.\"),\n",
    "    (\"What information should I include when reporting a bug?\", \"Provide a detailed description, steps to reproduce the issue, and any relevant screenshots.\"),\n",
    "    (\"How long does it take to resolve reported issues?\", \"Resolution times vary, but we strive to address all reports within 24-48 hours.\"),\n",
    "    (\"Will I be notified when the issue is resolved?\", \"Yes, our support team will notify you via email once the issue has been resolved.\"),\n",
    "    (\"Can I suggest new features or improvements?\", \"Absolutely! We welcome user feedback. Use the 'Report Issue' form to submit your suggestions.\"),\n",
    "]\n",
    "\n",
    "\n",
    "def display_faq_answer(selected_question):\n",
    "    for question, answer in faq_data:\n",
    "        if question == selected_question:\n",
    "            return answer\n",
    "    return \"Please select a question to see the answer.\""
   ]
  },
  {
   "cell_type": "markdown",
   "id": "febf2834-896c-4161-bbb0-d69f83f2d623",
   "metadata": {},
   "source": [
    "## FrontEnd code With CSS "
   ]
  },
  {
   "cell_type": "code",
   "execution_count": 149,
   "id": "0b760b12-ca30-4c20-9e51-edc6dd39e424",
   "metadata": {},
   "outputs": [
    {
     "name": "stdout",
     "output_type": "stream",
     "text": [
      "* Running on local URL:  http://127.0.0.1:7860\n",
      "* Running on public URL: https://72154637fe84ddf4c5.gradio.live\n",
      "\n",
      "This share link expires in 1 week. For free permanent hosting and GPU upgrades, run `gradio deploy` from the terminal in the working directory to deploy to Hugging Face Spaces (https://huggingface.co/spaces)\n"
     ]
    },
    {
     "data": {
      "text/html": [
       "<div><iframe src=\"https://72154637fe84ddf4c5.gradio.live\" width=\"100%\" height=\"500\" allow=\"autoplay; camera; microphone; clipboard-read; clipboard-write;\" frameborder=\"0\" allowfullscreen></iframe></div>"
      ],
      "text/plain": [
       "<IPython.core.display.HTML object>"
      ]
     },
     "metadata": {},
     "output_type": "display_data"
    }
   ],
   "source": [
    "with gr.Blocks(css=\"\"\" \n",
    "    body {\n",
    "        background-color: #0D1117;\n",
    "        color: #C9D1D9;\n",
    "        font-family: 'Segoe UI', sans-serif;\n",
    "    }\n",
    "    .gr-box {\n",
    "        border: 1px solid #30363D;\n",
    "        padding: 14px;\n",
    "        border-radius: 12px;\n",
    "        background: #161B22;\n",
    "        color: #C9D1D9;\n",
    "        font-weight: bold;\n",
    "    }\n",
    "    .tabs-bg {\n",
    "        background: #161B22;\n",
    "        padding: 20px;\n",
    "        border-radius: 15px;\n",
    "    }\n",
    "    .highlight {\n",
    "        background: #00acc1;\n",
    "        border-left: 5px solid #58A6FF;\n",
    "        padding: 10px;\n",
    "        border-radius: 8px;\n",
    "        color: #C9D1D9;\n",
    "        font-weight: bold;\n",
    "    }\n",
    "    .title {\n",
    "        text-align: center;\n",
    "        color: #00bcd4;\n",
    "        font-size: 2.5em;\n",
    "        font-weight: bold;\n",
    "    }\n",
    "    .important-btn {\n",
    "        background-color: #00acc1 !important;\n",
    "        color: white !important;\n",
    "        border: none !important;\n",
    "        font-weight: bold;\n",
    "    }\n",
    "    .flag-btn {\n",
    "        background-color: #DA3633 !important;\n",
    "        color: white !important;\n",
    "        border: none !important;\n",
    "        font-weight: bold;\n",
    "    }\n",
    "\"\"\") as demo:\n",
    "    gr.Markdown(\"\"\"<h1 class='title'>🩺 Medico(Medical Assistant)</h1>\"\"\")\n",
    "\n",
    "    disease_state = gr.State()\n",
    "\n",
    "    with gr.Tabs():\n",
    "        with gr.Tab(\"🏠 Home\"):\n",
    "             gr.Markdown(\"\"\"# 🏥 Welcome to Medico Health Portal\n",
    "\n",
    "              Stay informed and take charge of your health with our comprehensive resources and tools.\n",
    "             \"\"\")\n",
    "\n",
    "        # Useful Links\n",
    "             gr.Markdown(\"\"\"\n",
    "             ## 🔗 Useful Resources\n",
    "\n",
    "             - [World Health Organization](https://www.who.int)\n",
    "             - [Centers for Disease Control and Prevention](https://www.cdc.gov)\n",
    "             - [Healthline: Medical Information](https://www.healthline.com)\n",
    "             \"\"\")\n",
    "\n",
    "        # Interactive Feature: Health Tips\n",
    "             def get_health_tip():\n",
    "                 import random\n",
    "                 tips = [\n",
    "                 \"Stay hydrated by drinking at least 8 glasses of water daily.\",\n",
    "                 \"Engage in at least 30 minutes of physical activity each day.\",\n",
    "                 \"Ensure adequate sleep of 7-9 hours per night.\",\n",
    "                 \"Maintain a balanced diet rich in fruits and vegetables.\",\n",
    "                 \"Practice regular handwashing to prevent infections.\",\n",
    "                 \"Avoid Smoking & Excess Alcohol: Reduces risk of heart and lung disease\",\n",
    "                 \"Routine Checkups: Visit your doctor at least once a year.\",\n",
    "                 \"Limit Sugar & Salt: Reduce intake to prevent diabetes and high blood pressure.\",\n",
    "                 \"Seek professional help if you feel anxious or depressed.\",\n",
    "                 \"Seek professional help if you feel anxious or depressed.\",\n",
    "                 \"Eat foods low in saturated fat and cholesterol.\",\n",
    "                 \"Manage stress through yoga or deep breathing.\",\n",
    "                 \"Avoid trans fats — check food labels.\",\n",
    "                 \"Monitor your blood pressure regularly.\",\n",
    "                 \"Walk briskly for at least 20–30 minutes daily.\"\n",
    "                 \"Brush your teeth twice daily for 2 minutes.\",\"Floss once a day to remove plaque.\",\n",
    "                 \"Avoid sugary drinks and snacks.\",\n",
    "                 \"Visit your dentist every 6 months.\",\"Use fluoride toothpaste for enamel protection\"\n",
    "                 \"Follow the 20-20-20 rule: every 20 minutes, look 20 feet away for 20 seconds\",\n",
    "                 \"Wear sunglasses to protect from UV rays.\",\n",
    "                 \"Reduce screen brightness and increase text size.\",\"Get annual eye exams.\",\n",
    "                 \"Keep your screen at eye level and 20–24 inches away.\"\n",
    "                 \"Don’t skip breakfast — fuels your body for the day\",\"Practice portion control to avoid overeating.\",\n",
    "                 \"Keep a regular sleep schedule (same time daily).\",\n",
    "                 \"Take regular standing breaks if you work at a desk.\",\"Avoid unnecessary antibiotics to prevent resistance.\"\n",
    "                 ]\n",
    "                 return random.choice(tips)\n",
    "\n",
    "             health_tip_button = gr.Button(\"Get a Health Tip\")\n",
    "             health_tip_output = gr.Textbox(label=\"Daily Health Tip\")\n",
    "             health_tip_button.click(fn=get_health_tip, outputs=health_tip_output)\n",
    "            \n",
    "        with gr.Tab(\"📝 Register\"):\n",
    "            gr.Markdown(\"\"\"# 📝 Register here\"\"\")\n",
    "            reg_email = gr.Textbox(label=\"Email\")\n",
    "            reg_username = gr.Textbox(label=\"Username\")\n",
    "            reg_password = gr.Textbox(label=\"Password\", type=\"password\")\n",
    "            reg_button = gr.Button(\"📝 Register\")  \n",
    "            reg_output = gr.Textbox(label=\"Registration Status\")\n",
    "            \n",
    "        \n",
    "            reg_button.click(register_interface, inputs=[reg_username, reg_password, reg_email], outputs=reg_output)\n",
    "\n",
    "        \n",
    "        # 🩺 Diagnosis Tab\n",
    "        with gr.TabItem(\"🩺 Diagnosis\"):\n",
    "            gr.Markdown(\"\"\"# 🩺 Diagnosis\"\"\")\n",
    "            with gr.Row():\n",
    "                name_input = gr.Textbox(label=\"Name\", placeholder=\"Enter patient's name\")\n",
    "                gender_input = gr.Dropdown(label=\"Gender\", choices=[\"Male\", \"Female\", \"Other\"])\n",
    "                age_input = gr.Number(label=\"Age\", precision=0)\n",
    "                address_input = gr.Textbox(label=\"Address\", placeholder=\"Enter patient's address\")\n",
    "            with gr.Row():\n",
    "                symptoms_input = gr.Textbox(label=\"Enter Symptoms\", placeholder=\"e.g., fever, headache, nausea\")\n",
    "                predict_btn = gr.Button(\"🔍 Predict\", elem_classes=[\"important-btn\"])\n",
    "                clear_btn = gr.Button(\"🧹 Clear\", elem_classes=[\"important-btn\"])\n",
    "            predicted_output = gr.Textbox(label=\"Predicted Disease\", interactive=False, elem_classes=[\"highlight\"])\n",
    "\n",
    "            predict_btn.click(\n",
    "             fn=predict_disease,\n",
    "             inputs=[name_input, gender_input, age_input, address_input, symptoms_input],\n",
    "             outputs=[predicted_output, disease_state, patient_info_state]\n",
    "            )\n",
    "\n",
    "\n",
    "            clear_btn.click(lambda: (\"\", \"\", 0, \"\", \"\", \"\"), outputs=[name_input, gender_input, age_input, address_input, symptoms_input, predicted_output])\n",
    "\n",
    "\n",
    "        # 📋 Disease Info Tab\n",
    "        with gr.TabItem(\"📋 Disease Info\"):\n",
    "            gr.Markdown(\"\"\"# 📋 Disease Information\"\"\")\n",
    "            gr.Markdown(\"\"\"<div class='highlight'><b>Click buttons to get more information about the disease!</b></div>\"\"\")\n",
    "            with gr.Row():\n",
    "                btn_desc = gr.Button(\"📖 Description\", elem_classes=[\"important-btn\"])\n",
    "                btn_prec = gr.Button(\"🛡️ Precautions\", elem_classes=[\"important-btn\"])\n",
    "                btn_meds = gr.Button(\"💊 Medications\", elem_classes=[\"important-btn\"])\n",
    "                btn_diets = gr.Button(\"🥗 Diets\", elem_classes=[\"important-btn\"])\n",
    "                btn_work = gr.Button(\"🏋️ Workouts\", elem_classes=[\"important-btn\"])\n",
    "            detail_output = gr.Textbox(label=\"Details\", lines=10, interactive=False, elem_classes=[\"gr-box\"])\n",
    "\n",
    "            btn_desc.click(fn=get_description, inputs=disease_state, outputs=detail_output)\n",
    "            btn_prec.click(fn=get_precautions, inputs=disease_state, outputs=detail_output)\n",
    "            btn_meds.click(fn=get_medications, inputs=disease_state, outputs=detail_output)\n",
    "            btn_diets.click(fn=get_diets, inputs=disease_state, outputs=detail_output)\n",
    "            btn_work.click(fn=get_workouts, inputs=disease_state, outputs=detail_output)\n",
    "\n",
    "\n",
    "        # 🚩 Report Issue Tab\n",
    "        with gr.TabItem(\"🚩 Report Issue\"):\n",
    "            gr.Markdown(\"\"\"# 🚩 Report Issue\"\"\")\n",
    "            gr.Markdown(\"\"\"<div class='highlight'><b>Report wrong predictions or any app issues here.</b></div>\"\"\")\n",
    "            flagged_symptoms = gr.Textbox(label=\"Entered Symptoms\")\n",
    "            flagged_issue = gr.Textbox(label=\"Describe the Issue\", lines=3, placeholder=\"Wrong prediction, missing details, etc.\")\n",
    "            flag_btn = gr.Button(\"🚩 Submit Flag\", elem_classes=[\"flag-btn\"])\n",
    "            flag_output = gr.Textbox(label=\"Flag Acknowledgment\", interactive=False)\n",
    "\n",
    "            flag_btn.click(fn=flag_case, inputs=[disease_state, flagged_symptoms, flagged_issue], outputs=flag_output)\n",
    "\n",
    "\n",
    "        # Dahboard Tab\n",
    "        with gr.Tab(\"📊 Dashboard\"):\n",
    "            gr.Markdown(\"\"\"# 📊 Dashboard\"\"\")\n",
    "            dashboard_output = gr.Markdown()\n",
    "            refresh_button = gr.Button(\"🔄 Refresh Metrics\")\n",
    "            refresh_button.click(fn=get_dashboard_metrics, outputs=dashboard_output)\n",
    "\n",
    "        with gr.Tab(\"❓FAQ\"):\n",
    "            gr.Markdown(\"#❓ Frequently Asked Questions\")\n",
    "            faq_questions = [q for q, _ in faq_data]\n",
    "            faq_dropdown = gr.Dropdown(label=\"Select a question\", choices=faq_questions)\n",
    "            faq_answer = gr.Textbox(label=\"Answer\", interactive=False, lines=10)\n",
    "\n",
    "            faq_dropdown.change(\n",
    "                fn=display_faq_answer,\n",
    "                inputs=faq_dropdown,\n",
    "                outputs=faq_answer\n",
    "            )\n",
    "        # ℹ️ About Tab\n",
    "        with gr.TabItem(\"ℹ️ About\"):\n",
    "            gr.Markdown(\"\"\"# ℹ️ About\"\"\")\n",
    "            gr.Markdown(\"\"\"<div class='highlight'>\n",
    "                <b>About Medico AI Assistant</b><br><br>\n",
    "                🧠 Medico AI Assistant is a smart, AI-driven platform that predicts possible diseases based on your symptoms.\n",
    "                <br><br>\n",
    "                🔬 Our system analyzes symptoms against a trained medical database using machine learning algorithms.\n",
    "                <br>\n",
    "                📚 You can also view detailed disease descriptions, precautions, recommended medications, diet plans, and workout tips.\n",
    "                <br><br>\n",
    "                🚑 Why Medico AI?\n",
    "                <ul>\n",
    "                    <li>Fast and easy preliminary health insights.</li>\n",
    "                    <li>Access to basic treatment suggestions instantly.</li>\n",
    "                    <li>Early awareness to promote better healthcare decisions.</li>\n",
    "                    <li>Help patients understand preventive care options.</li>\n",
    "                </ul>\n",
    "                <br>\n",
    "                ⚠️ <b>Disclaimer:</b> This tool is for informational purposes only. Please consult certified doctors for any serious health concerns.\n",
    "            </div>\"\"\")\n",
    "\n",
    "    demo.launch(share=True)\n"
   ]
  },
  {
   "cell_type": "code",
   "execution_count": null,
   "id": "1e109b73-f8bf-4158-b59b-8e7aced0ceb2",
   "metadata": {},
   "outputs": [],
   "source": []
  }
 ],
 "metadata": {
  "kernelspec": {
   "display_name": "Python 3 (ipykernel)",
   "language": "python",
   "name": "python3"
  },
  "language_info": {
   "codemirror_mode": {
    "name": "ipython",
    "version": 3
   },
   "file_extension": ".py",
   "mimetype": "text/x-python",
   "name": "python",
   "nbconvert_exporter": "python",
   "pygments_lexer": "ipython3",
   "version": "3.11.5"
  }
 },
 "nbformat": 4,
 "nbformat_minor": 5
}
